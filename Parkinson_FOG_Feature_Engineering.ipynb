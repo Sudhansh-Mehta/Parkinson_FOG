{
  "nbformat": 4,
  "nbformat_minor": 0,
  "metadata": {
    "colab": {
      "provenance": [],
      "machine_shape": "hm",
      "gpuType": "A100"
    },
    "kernelspec": {
      "name": "python3",
      "display_name": "Python 3"
    },
    "language_info": {
      "name": "python"
    },
    "accelerator": "GPU"
  },
  "cells": [
    {
      "cell_type": "markdown",
      "source": [
        "Load Data : original format text file ----> convert to csv format giving appropriate column names for the features as described by authors of the Daphnet Dataset\n"
      ],
      "metadata": {
        "id": "0w9N9DiDAnBt"
      }
    },
    {
      "cell_type": "code",
      "execution_count": null,
      "metadata": {
        "id": "UjAi9aWyAfuC"
      },
      "outputs": [],
      "source": [
        "import pandas as pd\n",
        "import numpy as np\n",
        "from scipy import signal"
      ]
    },
    {
      "cell_type": "code",
      "source": [
        "from google.colab import drive\n",
        "drive.mount('/content/drive')"
      ],
      "metadata": {
        "colab": {
          "base_uri": "https://localhost:8080/"
        },
        "id": "hbMwKAq8BHli",
        "outputId": "9ec73dd2-31f3-4088-9da1-561cc0bdea7a"
      },
      "execution_count": null,
      "outputs": [
        {
          "output_type": "stream",
          "name": "stdout",
          "text": [
            "Mounted at /content/drive\n"
          ]
        }
      ]
    },
    {
      "cell_type": "code",
      "source": [
        "# Define column names\n",
        "column_names = [\n",
        "    \"Time\", \"Ankle_horizontal_forward\", \"Ankle_vertical\", \"Ankle_horizontal_lateral\",\n",
        "    \"Upper_leg_horizontal_forward\", \"Upper_leg_vertical\", \"Upper_leg_horizontal_lateral\",\n",
        "    \"Trunk_horizontal_forward\", \"Trunk_vertical\", \"Trunk_horizontal_lateral\",\"Annotation\"\n",
        "]\n",
        "\n",
        "# Read the text file into a DataFrame\n",
        "df1 = pd.read_csv(\"/content/drive/MyDrive/dataset/S01R01.txt\", delimiter=\" \", names=column_names)\n",
        "df2 = pd.read_csv(\"/content/drive/MyDrive/dataset/S01R02.txt\", delimiter=\" \", names=column_names)\n",
        "df3 = pd.read_csv(\"/content/drive/MyDrive/dataset/S02R01.txt\", delimiter=\" \", names=column_names)\n",
        "df4 = pd.read_csv(\"/content/drive/MyDrive/dataset/S02R02.txt\", delimiter=\" \", names=column_names)\n",
        "df5 = pd.read_csv(\"/content/drive/MyDrive/dataset/S03R01.txt\", delimiter=\" \", names=column_names)\n",
        "df6 = pd.read_csv(\"/content/drive/MyDrive/dataset/S03R02.txt\", delimiter=\" \", names=column_names)\n",
        "df7 = pd.read_csv(\"/content/drive/MyDrive/dataset/S03R03.txt\", delimiter=\" \", names=column_names)\n",
        "df8 = pd.read_csv(\"/content/drive/MyDrive/dataset/S04R01.txt\", delimiter=\" \", names=column_names)\n",
        "df9 = pd.read_csv(\"/content/drive/MyDrive/dataset/S05R01.txt\", delimiter=\" \", names=column_names)\n",
        "df10 = pd.read_csv(\"/content/drive/MyDrive/dataset/S05R02.txt\", delimiter=\" \", names=column_names)\n",
        "df11 = pd.read_csv(\"/content/drive/MyDrive/dataset/S06R01.txt\", delimiter=\" \", names=column_names)\n",
        "df12 = pd.read_csv(\"/content/drive/MyDrive/dataset/S06R02.txt\", delimiter=\" \", names=column_names)\n",
        "df13 = pd.read_csv(\"/content/drive/MyDrive/dataset/S07R01.txt\", delimiter=\" \", names=column_names)\n",
        "df14 = pd.read_csv(\"/content/drive/MyDrive/dataset/S07R02.txt\", delimiter=\" \", names=column_names)\n",
        "df15 = pd.read_csv(\"/content/drive/MyDrive/dataset/S08R01.txt\", delimiter=\" \", names=column_names)\n",
        "df16 = pd.read_csv(\"/content/drive/MyDrive/dataset/S09R01.txt\", delimiter=\" \", names=column_names)\n",
        "df17 = pd.read_csv(\"/content/drive/MyDrive/dataset/S10R01.txt\", delimiter=\" \", names=column_names)"
      ],
      "metadata": {
        "id": "lN-v4AhBGKh9"
      },
      "execution_count": null,
      "outputs": []
    },
    {
      "cell_type": "code",
      "source": [
        "# Create a list to hold your dataframes\n",
        "dataframes = [df1, df2, df3, df4, df5, df6, df7, df8, df9, df10, df11, df12, df13, df14, df15, df16, df17]\n",
        "\n",
        "# Concatenate dataframes vertically\n",
        "data = pd.concat(dataframes, ignore_index=True)\n",
        "\n",
        "# Print the first few rows of the combined dataframe\n",
        "data.head(10)"
      ],
      "metadata": {
        "colab": {
          "base_uri": "https://localhost:8080/",
          "height": 383
        },
        "id": "3o5pApPCSU-D",
        "outputId": "5afdc5b9-91cc-4877-d047-363f5568e17e"
      },
      "execution_count": null,
      "outputs": [
        {
          "output_type": "execute_result",
          "data": {
            "text/plain": [
              "   Time  Ankle_horizontal_forward  Ankle_vertical  Ankle_horizontal_lateral  \\\n",
              "0    15                        70              39                      -970   \n",
              "1    31                        70              39                      -970   \n",
              "2    46                        60              49                      -960   \n",
              "3    62                        60              49                      -960   \n",
              "4    78                        50              39                      -960   \n",
              "5    93                        50              39                      -960   \n",
              "6   109                        60              39                      -990   \n",
              "7   125                        70              29                      -980   \n",
              "8   140                        70              29                      -980   \n",
              "9   156                        70              29                      -970   \n",
              "\n",
              "   Upper_leg_horizontal_forward  Upper_leg_vertical  \\\n",
              "0                             0                   0   \n",
              "1                             0                   0   \n",
              "2                             0                   0   \n",
              "3                             0                   0   \n",
              "4                             0                   0   \n",
              "5                             0                   0   \n",
              "6                             0                   0   \n",
              "7                             0                   0   \n",
              "8                             0                   0   \n",
              "9                             0                   0   \n",
              "\n",
              "   Upper_leg_horizontal_lateral  Trunk_horizontal_forward  Trunk_vertical  \\\n",
              "0                             0                         0               0   \n",
              "1                             0                         0               0   \n",
              "2                             0                         0               0   \n",
              "3                             0                         0               0   \n",
              "4                             0                         0               0   \n",
              "5                             0                         0               0   \n",
              "6                             0                         0               0   \n",
              "7                             0                         0               0   \n",
              "8                             0                         0               0   \n",
              "9                             0                         0               0   \n",
              "\n",
              "   Trunk_horizontal_lateral  Annotation  \n",
              "0                         0           0  \n",
              "1                         0           0  \n",
              "2                         0           0  \n",
              "3                         0           0  \n",
              "4                         0           0  \n",
              "5                         0           0  \n",
              "6                         0           0  \n",
              "7                         0           0  \n",
              "8                         0           0  \n",
              "9                         0           0  "
            ],
            "text/html": [
              "\n",
              "  <div id=\"df-44325cbd-2da6-4e0a-bf70-9d61dfaf12d0\" class=\"colab-df-container\">\n",
              "    <div>\n",
              "<style scoped>\n",
              "    .dataframe tbody tr th:only-of-type {\n",
              "        vertical-align: middle;\n",
              "    }\n",
              "\n",
              "    .dataframe tbody tr th {\n",
              "        vertical-align: top;\n",
              "    }\n",
              "\n",
              "    .dataframe thead th {\n",
              "        text-align: right;\n",
              "    }\n",
              "</style>\n",
              "<table border=\"1\" class=\"dataframe\">\n",
              "  <thead>\n",
              "    <tr style=\"text-align: right;\">\n",
              "      <th></th>\n",
              "      <th>Time</th>\n",
              "      <th>Ankle_horizontal_forward</th>\n",
              "      <th>Ankle_vertical</th>\n",
              "      <th>Ankle_horizontal_lateral</th>\n",
              "      <th>Upper_leg_horizontal_forward</th>\n",
              "      <th>Upper_leg_vertical</th>\n",
              "      <th>Upper_leg_horizontal_lateral</th>\n",
              "      <th>Trunk_horizontal_forward</th>\n",
              "      <th>Trunk_vertical</th>\n",
              "      <th>Trunk_horizontal_lateral</th>\n",
              "      <th>Annotation</th>\n",
              "    </tr>\n",
              "  </thead>\n",
              "  <tbody>\n",
              "    <tr>\n",
              "      <th>0</th>\n",
              "      <td>15</td>\n",
              "      <td>70</td>\n",
              "      <td>39</td>\n",
              "      <td>-970</td>\n",
              "      <td>0</td>\n",
              "      <td>0</td>\n",
              "      <td>0</td>\n",
              "      <td>0</td>\n",
              "      <td>0</td>\n",
              "      <td>0</td>\n",
              "      <td>0</td>\n",
              "    </tr>\n",
              "    <tr>\n",
              "      <th>1</th>\n",
              "      <td>31</td>\n",
              "      <td>70</td>\n",
              "      <td>39</td>\n",
              "      <td>-970</td>\n",
              "      <td>0</td>\n",
              "      <td>0</td>\n",
              "      <td>0</td>\n",
              "      <td>0</td>\n",
              "      <td>0</td>\n",
              "      <td>0</td>\n",
              "      <td>0</td>\n",
              "    </tr>\n",
              "    <tr>\n",
              "      <th>2</th>\n",
              "      <td>46</td>\n",
              "      <td>60</td>\n",
              "      <td>49</td>\n",
              "      <td>-960</td>\n",
              "      <td>0</td>\n",
              "      <td>0</td>\n",
              "      <td>0</td>\n",
              "      <td>0</td>\n",
              "      <td>0</td>\n",
              "      <td>0</td>\n",
              "      <td>0</td>\n",
              "    </tr>\n",
              "    <tr>\n",
              "      <th>3</th>\n",
              "      <td>62</td>\n",
              "      <td>60</td>\n",
              "      <td>49</td>\n",
              "      <td>-960</td>\n",
              "      <td>0</td>\n",
              "      <td>0</td>\n",
              "      <td>0</td>\n",
              "      <td>0</td>\n",
              "      <td>0</td>\n",
              "      <td>0</td>\n",
              "      <td>0</td>\n",
              "    </tr>\n",
              "    <tr>\n",
              "      <th>4</th>\n",
              "      <td>78</td>\n",
              "      <td>50</td>\n",
              "      <td>39</td>\n",
              "      <td>-960</td>\n",
              "      <td>0</td>\n",
              "      <td>0</td>\n",
              "      <td>0</td>\n",
              "      <td>0</td>\n",
              "      <td>0</td>\n",
              "      <td>0</td>\n",
              "      <td>0</td>\n",
              "    </tr>\n",
              "    <tr>\n",
              "      <th>5</th>\n",
              "      <td>93</td>\n",
              "      <td>50</td>\n",
              "      <td>39</td>\n",
              "      <td>-960</td>\n",
              "      <td>0</td>\n",
              "      <td>0</td>\n",
              "      <td>0</td>\n",
              "      <td>0</td>\n",
              "      <td>0</td>\n",
              "      <td>0</td>\n",
              "      <td>0</td>\n",
              "    </tr>\n",
              "    <tr>\n",
              "      <th>6</th>\n",
              "      <td>109</td>\n",
              "      <td>60</td>\n",
              "      <td>39</td>\n",
              "      <td>-990</td>\n",
              "      <td>0</td>\n",
              "      <td>0</td>\n",
              "      <td>0</td>\n",
              "      <td>0</td>\n",
              "      <td>0</td>\n",
              "      <td>0</td>\n",
              "      <td>0</td>\n",
              "    </tr>\n",
              "    <tr>\n",
              "      <th>7</th>\n",
              "      <td>125</td>\n",
              "      <td>70</td>\n",
              "      <td>29</td>\n",
              "      <td>-980</td>\n",
              "      <td>0</td>\n",
              "      <td>0</td>\n",
              "      <td>0</td>\n",
              "      <td>0</td>\n",
              "      <td>0</td>\n",
              "      <td>0</td>\n",
              "      <td>0</td>\n",
              "    </tr>\n",
              "    <tr>\n",
              "      <th>8</th>\n",
              "      <td>140</td>\n",
              "      <td>70</td>\n",
              "      <td>29</td>\n",
              "      <td>-980</td>\n",
              "      <td>0</td>\n",
              "      <td>0</td>\n",
              "      <td>0</td>\n",
              "      <td>0</td>\n",
              "      <td>0</td>\n",
              "      <td>0</td>\n",
              "      <td>0</td>\n",
              "    </tr>\n",
              "    <tr>\n",
              "      <th>9</th>\n",
              "      <td>156</td>\n",
              "      <td>70</td>\n",
              "      <td>29</td>\n",
              "      <td>-970</td>\n",
              "      <td>0</td>\n",
              "      <td>0</td>\n",
              "      <td>0</td>\n",
              "      <td>0</td>\n",
              "      <td>0</td>\n",
              "      <td>0</td>\n",
              "      <td>0</td>\n",
              "    </tr>\n",
              "  </tbody>\n",
              "</table>\n",
              "</div>\n",
              "    <div class=\"colab-df-buttons\">\n",
              "\n",
              "  <div class=\"colab-df-container\">\n",
              "    <button class=\"colab-df-convert\" onclick=\"convertToInteractive('df-44325cbd-2da6-4e0a-bf70-9d61dfaf12d0')\"\n",
              "            title=\"Convert this dataframe to an interactive table.\"\n",
              "            style=\"display:none;\">\n",
              "\n",
              "  <svg xmlns=\"http://www.w3.org/2000/svg\" height=\"24px\" viewBox=\"0 -960 960 960\">\n",
              "    <path d=\"M120-120v-720h720v720H120Zm60-500h600v-160H180v160Zm220 220h160v-160H400v160Zm0 220h160v-160H400v160ZM180-400h160v-160H180v160Zm440 0h160v-160H620v160ZM180-180h160v-160H180v160Zm440 0h160v-160H620v160Z\"/>\n",
              "  </svg>\n",
              "    </button>\n",
              "\n",
              "  <style>\n",
              "    .colab-df-container {\n",
              "      display:flex;\n",
              "      gap: 12px;\n",
              "    }\n",
              "\n",
              "    .colab-df-convert {\n",
              "      background-color: #E8F0FE;\n",
              "      border: none;\n",
              "      border-radius: 50%;\n",
              "      cursor: pointer;\n",
              "      display: none;\n",
              "      fill: #1967D2;\n",
              "      height: 32px;\n",
              "      padding: 0 0 0 0;\n",
              "      width: 32px;\n",
              "    }\n",
              "\n",
              "    .colab-df-convert:hover {\n",
              "      background-color: #E2EBFA;\n",
              "      box-shadow: 0px 1px 2px rgba(60, 64, 67, 0.3), 0px 1px 3px 1px rgba(60, 64, 67, 0.15);\n",
              "      fill: #174EA6;\n",
              "    }\n",
              "\n",
              "    .colab-df-buttons div {\n",
              "      margin-bottom: 4px;\n",
              "    }\n",
              "\n",
              "    [theme=dark] .colab-df-convert {\n",
              "      background-color: #3B4455;\n",
              "      fill: #D2E3FC;\n",
              "    }\n",
              "\n",
              "    [theme=dark] .colab-df-convert:hover {\n",
              "      background-color: #434B5C;\n",
              "      box-shadow: 0px 1px 3px 1px rgba(0, 0, 0, 0.15);\n",
              "      filter: drop-shadow(0px 1px 2px rgba(0, 0, 0, 0.3));\n",
              "      fill: #FFFFFF;\n",
              "    }\n",
              "  </style>\n",
              "\n",
              "    <script>\n",
              "      const buttonEl =\n",
              "        document.querySelector('#df-44325cbd-2da6-4e0a-bf70-9d61dfaf12d0 button.colab-df-convert');\n",
              "      buttonEl.style.display =\n",
              "        google.colab.kernel.accessAllowed ? 'block' : 'none';\n",
              "\n",
              "      async function convertToInteractive(key) {\n",
              "        const element = document.querySelector('#df-44325cbd-2da6-4e0a-bf70-9d61dfaf12d0');\n",
              "        const dataTable =\n",
              "          await google.colab.kernel.invokeFunction('convertToInteractive',\n",
              "                                                    [key], {});\n",
              "        if (!dataTable) return;\n",
              "\n",
              "        const docLinkHtml = 'Like what you see? Visit the ' +\n",
              "          '<a target=\"_blank\" href=https://colab.research.google.com/notebooks/data_table.ipynb>data table notebook</a>'\n",
              "          + ' to learn more about interactive tables.';\n",
              "        element.innerHTML = '';\n",
              "        dataTable['output_type'] = 'display_data';\n",
              "        await google.colab.output.renderOutput(dataTable, element);\n",
              "        const docLink = document.createElement('div');\n",
              "        docLink.innerHTML = docLinkHtml;\n",
              "        element.appendChild(docLink);\n",
              "      }\n",
              "    </script>\n",
              "  </div>\n",
              "\n",
              "\n",
              "<div id=\"df-eb224fd6-5e40-4a4d-b122-fcf00f68a68e\">\n",
              "  <button class=\"colab-df-quickchart\" onclick=\"quickchart('df-eb224fd6-5e40-4a4d-b122-fcf00f68a68e')\"\n",
              "            title=\"Suggest charts.\"\n",
              "            style=\"display:none;\">\n",
              "\n",
              "<svg xmlns=\"http://www.w3.org/2000/svg\" height=\"24px\"viewBox=\"0 0 24 24\"\n",
              "     width=\"24px\">\n",
              "    <g>\n",
              "        <path d=\"M19 3H5c-1.1 0-2 .9-2 2v14c0 1.1.9 2 2 2h14c1.1 0 2-.9 2-2V5c0-1.1-.9-2-2-2zM9 17H7v-7h2v7zm4 0h-2V7h2v10zm4 0h-2v-4h2v4z\"/>\n",
              "    </g>\n",
              "</svg>\n",
              "  </button>\n",
              "\n",
              "<style>\n",
              "  .colab-df-quickchart {\n",
              "    background-color: #E8F0FE;\n",
              "    border: none;\n",
              "    border-radius: 50%;\n",
              "    cursor: pointer;\n",
              "    display: none;\n",
              "    fill: #1967D2;\n",
              "    height: 32px;\n",
              "    padding: 0 0 0 0;\n",
              "    width: 32px;\n",
              "  }\n",
              "\n",
              "  .colab-df-quickchart:hover {\n",
              "    background-color: #E2EBFA;\n",
              "    box-shadow: 0px 1px 2px rgba(60, 64, 67, 0.3), 0px 1px 3px 1px rgba(60, 64, 67, 0.15);\n",
              "    fill: #174EA6;\n",
              "  }\n",
              "\n",
              "  [theme=dark] .colab-df-quickchart {\n",
              "    background-color: #3B4455;\n",
              "    fill: #D2E3FC;\n",
              "  }\n",
              "\n",
              "  [theme=dark] .colab-df-quickchart:hover {\n",
              "    background-color: #434B5C;\n",
              "    box-shadow: 0px 1px 3px 1px rgba(0, 0, 0, 0.15);\n",
              "    filter: drop-shadow(0px 1px 2px rgba(0, 0, 0, 0.3));\n",
              "    fill: #FFFFFF;\n",
              "  }\n",
              "</style>\n",
              "\n",
              "  <script>\n",
              "    async function quickchart(key) {\n",
              "      const charts = await google.colab.kernel.invokeFunction(\n",
              "          'suggestCharts', [key], {});\n",
              "    }\n",
              "    (() => {\n",
              "      let quickchartButtonEl =\n",
              "        document.querySelector('#df-eb224fd6-5e40-4a4d-b122-fcf00f68a68e button');\n",
              "      quickchartButtonEl.style.display =\n",
              "        google.colab.kernel.accessAllowed ? 'block' : 'none';\n",
              "    })();\n",
              "  </script>\n",
              "</div>\n",
              "    </div>\n",
              "  </div>\n"
            ]
          },
          "metadata": {},
          "execution_count": 4
        }
      ]
    },
    {
      "cell_type": "code",
      "source": [
        "data.shape"
      ],
      "metadata": {
        "colab": {
          "base_uri": "https://localhost:8080/"
        },
        "id": "hipE0XJYTmBr",
        "outputId": "3094531b-9dfa-43a6-e11e-629989062d63"
      },
      "execution_count": null,
      "outputs": [
        {
          "output_type": "execute_result",
          "data": {
            "text/plain": [
              "(1917887, 11)"
            ]
          },
          "metadata": {},
          "execution_count": 5
        }
      ]
    },
    {
      "cell_type": "markdown",
      "source": [
        "First feature - acceleration magnitude"
      ],
      "metadata": {
        "id": "yq-JDhYj-rcw"
      }
    },
    {
      "cell_type": "code",
      "source": [
        "acc_magnitude = np.sqrt(data['Ankle_horizontal_forward']**2 + data['Ankle_vertical']**2 + data['Ankle_horizontal_lateral']**2)"
      ],
      "metadata": {
        "id": "MIIdd6rRAkVY"
      },
      "execution_count": null,
      "outputs": []
    },
    {
      "cell_type": "code",
      "source": [
        "type(acc_magnitude)"
      ],
      "metadata": {
        "colab": {
          "base_uri": "https://localhost:8080/"
        },
        "id": "aM6jL3U6Am8K",
        "outputId": "a205a5a6-d161-417f-e26a-bc0a6f5d5640"
      },
      "execution_count": null,
      "outputs": [
        {
          "output_type": "execute_result",
          "data": {
            "text/plain": [
              "pandas.core.series.Series"
            ]
          },
          "metadata": {},
          "execution_count": 7
        }
      ]
    },
    {
      "cell_type": "code",
      "source": [
        "acc_magnitude.shape"
      ],
      "metadata": {
        "colab": {
          "base_uri": "https://localhost:8080/"
        },
        "id": "9ofDR3NuArFY",
        "outputId": "bd1c2e7c-ea24-4d49-d7d1-21c6da96b6e8"
      },
      "execution_count": null,
      "outputs": [
        {
          "output_type": "execute_result",
          "data": {
            "text/plain": [
              "(1917887,)"
            ]
          },
          "metadata": {},
          "execution_count": 8
        }
      ]
    },
    {
      "cell_type": "code",
      "source": [
        "data['Acc_magnitude'] = acc_magnitude"
      ],
      "metadata": {
        "id": "iZsXQaHz-89K"
      },
      "execution_count": null,
      "outputs": []
    },
    {
      "cell_type": "code",
      "source": [
        "data.shape"
      ],
      "metadata": {
        "colab": {
          "base_uri": "https://localhost:8080/"
        },
        "id": "0UcvmBAX_Fvy",
        "outputId": "63deda03-02e1-4a12-814e-b3214d5e97ba"
      },
      "execution_count": null,
      "outputs": [
        {
          "output_type": "execute_result",
          "data": {
            "text/plain": [
              "(1917887, 12)"
            ]
          },
          "metadata": {},
          "execution_count": 10
        }
      ]
    },
    {
      "cell_type": "code",
      "source": [
        "len(data)"
      ],
      "metadata": {
        "colab": {
          "base_uri": "https://localhost:8080/"
        },
        "id": "D44nRAv0CzWW",
        "outputId": "95ead6fb-58e7-4913-cf59-47670ce29437"
      },
      "execution_count": null,
      "outputs": [
        {
          "output_type": "execute_result",
          "data": {
            "text/plain": [
              "1917887"
            ]
          },
          "metadata": {},
          "execution_count": 11
        }
      ]
    },
    {
      "cell_type": "markdown",
      "source": [
        "Next set of features (for Ankle Sensor) :\n",
        "\n",
        "1. Mean\n",
        "2. Standard Deviation\n",
        "3. Variance"
      ],
      "metadata": {
        "id": "o0n__ny8_0v0"
      }
    },
    {
      "cell_type": "code",
      "source": [
        "window_size = 100  # Choose an appropriate window size\n",
        "\n",
        "# Initialize empty arrays to store calculated features\n",
        "mean_values = []\n",
        "variance_values = []\n",
        "std_deviation_values = []\n",
        "\n",
        "# Iterate through the data using the sliding window\n",
        "for i in range(0, len(data) - window_size + 1, 1):\n",
        "    window_data = data.iloc[i:i+window_size]\n",
        "\n",
        "    # Calculate mean, variance, and standard deviation for the window\n",
        "    mean_values.append(window_data['Ankle_horizontal_forward'].mean())\n",
        "    variance_values.append(window_data['Ankle_horizontal_forward'].var())\n",
        "    std_deviation_values.append(window_data['Ankle_horizontal_forward'].std())\n",
        "\n",
        "\"\"\" Add the calculated features to the DataFrame\n",
        "data['Windowed_Mean'] = mean_values\n",
        "data['Windowed_Variance'] = variance_values\n",
        "data['Windowed_Std_Deviation'] = std_deviation_values\"\"\"\n",
        "len(mean_values)\n",
        "len(variance_values)\n",
        "len(std_deviation_values)"
      ],
      "metadata": {
        "colab": {
          "base_uri": "https://localhost:8080/"
        },
        "id": "4575NSoQ_xkT",
        "outputId": "6286b186-7ad7-4647-965e-bf1e65aff160"
      },
      "execution_count": null,
      "outputs": [
        {
          "output_type": "execute_result",
          "data": {
            "text/plain": [
              "1917788"
            ]
          },
          "metadata": {},
          "execution_count": 12
        }
      ]
    },
    {
      "cell_type": "code",
      "source": [
        "print(mean_values[len(mean_values)-1])\n",
        "print(variance_values[len(variance_values)-1])\n",
        "print(std_deviation_values[len(std_deviation_values)-1])"
      ],
      "metadata": {
        "colab": {
          "base_uri": "https://localhost:8080/"
        },
        "id": "VdQKkEGoPrrJ",
        "outputId": "2b3ead39-5f84-4044-dc14-3d5601bf2bd7"
      },
      "execution_count": null,
      "outputs": [
        {
          "output_type": "stream",
          "name": "stdout",
          "text": [
            "-142.7\n",
            "246.57575757575756\n",
            "15.702730895476671\n"
          ]
        }
      ]
    },
    {
      "cell_type": "code",
      "source": [
        "len(data)-len(mean_values)"
      ],
      "metadata": {
        "colab": {
          "base_uri": "https://localhost:8080/"
        },
        "id": "W5LeBOgOQVbk",
        "outputId": "cfb90852-7783-4f88-de2e-97b2233e61e7"
      },
      "execution_count": null,
      "outputs": [
        {
          "output_type": "execute_result",
          "data": {
            "text/plain": [
              "99"
            ]
          },
          "metadata": {},
          "execution_count": 14
        }
      ]
    },
    {
      "cell_type": "code",
      "source": [
        "list1=[mean_values[len(mean_values)-1]]*(len(data)-len(mean_values))"
      ],
      "metadata": {
        "id": "Wrg5CQwaRBQ7"
      },
      "execution_count": null,
      "outputs": []
    },
    {
      "cell_type": "code",
      "source": [
        "list2=[variance_values[len(variance_values)-1]]*(len(data)-len(mean_values))"
      ],
      "metadata": {
        "id": "9Er2WSUWR8WL"
      },
      "execution_count": null,
      "outputs": []
    },
    {
      "cell_type": "code",
      "source": [
        "list3=[std_deviation_values[len(std_deviation_values)-1]]*(len(data)-len(mean_values))"
      ],
      "metadata": {
        "id": "WNj9jSTeSMd6"
      },
      "execution_count": null,
      "outputs": []
    },
    {
      "cell_type": "code",
      "source": [
        "mean_values.extend(list1)\n",
        "variance_values.extend(list2)\n",
        "std_deviation_values.extend(list3)"
      ],
      "metadata": {
        "id": "hYlvQw12SdeX"
      },
      "execution_count": null,
      "outputs": []
    },
    {
      "cell_type": "code",
      "source": [
        "len(mean_values)\n",
        "len(variance_values)\n",
        "len(std_deviation_values)"
      ],
      "metadata": {
        "colab": {
          "base_uri": "https://localhost:8080/"
        },
        "id": "hnd03zIoWG5z",
        "outputId": "adcefd75-b63c-4b1f-f894-18b2f71e40f4"
      },
      "execution_count": null,
      "outputs": [
        {
          "output_type": "execute_result",
          "data": {
            "text/plain": [
              "1917887"
            ]
          },
          "metadata": {},
          "execution_count": 19
        }
      ]
    },
    {
      "cell_type": "code",
      "source": [
        "\"\"\" Add the calculated features to the DataFrame\"\"\"\n",
        "data['Ankle_horizontal_forward_Windowed_Mean'] = mean_values\n",
        "data['Ankle_horizontal_forward_Windowed_Variance'] = variance_values\n",
        "data['Ankle_horizontal_forward_Windowed_Std_Deviation'] = std_deviation_values"
      ],
      "metadata": {
        "id": "ue2lMbptWMWh"
      },
      "execution_count": null,
      "outputs": []
    },
    {
      "cell_type": "code",
      "source": [
        "window_size = 100  # Choose an appropriate window size\n",
        "\n",
        "# Initialize empty arrays to store calculated features\n",
        "mean_values = []\n",
        "variance_values = []\n",
        "std_deviation_values = []\n",
        "\n",
        "# Iterate through the data using the sliding window\n",
        "for i in range(0, len(data) - window_size + 1, 1):\n",
        "    window_data = data.iloc[i:i+window_size]\n",
        "\n",
        "    # Calculate mean, variance, and standard deviation for the window\n",
        "    mean_values.append(window_data['Ankle_vertical'].mean())\n",
        "    variance_values.append(window_data['Ankle_vertical'].var())\n",
        "    std_deviation_values.append(window_data['Ankle_vertical'].std())\n",
        "\n",
        "list1=[mean_values[len(mean_values)-1]]*(len(data)-len(mean_values))\n",
        "list2=[variance_values[len(variance_values)-1]]*(len(data)-len(mean_values))\n",
        "list3=[std_deviation_values[len(std_deviation_values)-1]]*(len(data)-len(mean_values))\n",
        "mean_values.extend(list1)\n",
        "variance_values.extend(list2)\n",
        "std_deviation_values.extend(list3)\n",
        "\"\"\" Add the calculated features to the DataFrame\"\"\"\n",
        "data['Ankle_vertical_Windowed_Mean'] = mean_values\n",
        "data['Ankle_vertical_Windowed_Variance'] = variance_values\n",
        "data['Ankle_vertical_Windowed_Std_Deviation'] = std_deviation_values"
      ],
      "metadata": {
        "id": "MIZljGB0b3bn"
      },
      "execution_count": null,
      "outputs": []
    },
    {
      "cell_type": "code",
      "source": [
        "data.shape"
      ],
      "metadata": {
        "colab": {
          "base_uri": "https://localhost:8080/"
        },
        "id": "yG2hFNuGg6DE",
        "outputId": "7193b2ea-bbaf-41b3-c987-2533517f1284"
      },
      "execution_count": null,
      "outputs": [
        {
          "output_type": "execute_result",
          "data": {
            "text/plain": [
              "(1917887, 18)"
            ]
          },
          "metadata": {},
          "execution_count": 25
        }
      ]
    },
    {
      "cell_type": "code",
      "source": [
        "window_size = 100  # Choose an appropriate window size\n",
        "\n",
        "# Initialize empty arrays to store calculated features\n",
        "mean_values = []\n",
        "variance_values = []\n",
        "std_deviation_values = []\n",
        "\n",
        "# Iterate through the data using the sliding window\n",
        "for i in range(0, len(data) - window_size + 1, 1):\n",
        "    window_data = data.iloc[i:i+window_size]\n",
        "\n",
        "    # Calculate mean, variance, and standard deviation for the window\n",
        "    mean_values.append(window_data['Ankle_horizontal_lateral'].mean())\n",
        "    variance_values.append(window_data['Ankle_horizontal_lateral'].var())\n",
        "    std_deviation_values.append(window_data['Ankle_horizontal_lateral'].std())\n",
        "\n",
        "list1=[mean_values[len(mean_values)-1]]*(len(data)-len(mean_values))\n",
        "list2=[variance_values[len(variance_values)-1]]*(len(data)-len(mean_values))\n",
        "list3=[std_deviation_values[len(std_deviation_values)-1]]*(len(data)-len(mean_values))\n",
        "mean_values.extend(list1)\n",
        "variance_values.extend(list2)\n",
        "std_deviation_values.extend(list3)\n",
        "\"\"\" Add the calculated features to the DataFrame\"\"\"\n",
        "data['Ankle_horizontal_lateral_Windowed_Mean'] = mean_values\n",
        "data['Ankle_horizontal_lateral_Windowed_Variance'] = variance_values\n",
        "data['Ankle_horizontal_lateral_Windowed_Std_Deviation'] = std_deviation_values"
      ],
      "metadata": {
        "id": "MgLPHzTahCSS"
      },
      "execution_count": null,
      "outputs": []
    },
    {
      "cell_type": "code",
      "source": [
        "data.shape"
      ],
      "metadata": {
        "colab": {
          "base_uri": "https://localhost:8080/"
        },
        "id": "j2GjLEKfkwWT",
        "outputId": "b68c54b3-4df4-4c4e-bd52-e8089afa3c35"
      },
      "execution_count": null,
      "outputs": [
        {
          "output_type": "execute_result",
          "data": {
            "text/plain": [
              "(1917887, 21)"
            ]
          },
          "metadata": {},
          "execution_count": 27
        }
      ]
    },
    {
      "cell_type": "markdown",
      "source": [
        "Next set of features (for Upper Leg Sensor) :\n",
        "\n",
        "1. Mean\n",
        "2. Standard Deviation\n",
        "3. Variance"
      ],
      "metadata": {
        "id": "NlUA07IZlDtu"
      }
    },
    {
      "cell_type": "code",
      "source": [
        "window_size = 100  # Choose an appropriate window size\n",
        "\n",
        "# Initialize empty arrays to store calculated features\n",
        "mean_values = []\n",
        "variance_values = []\n",
        "std_deviation_values = []\n",
        "\n",
        "# Iterate through the data using the sliding window\n",
        "for i in range(0, len(data) - window_size + 1, 1):\n",
        "    window_data = data.iloc[i:i+window_size]\n",
        "\n",
        "    # Calculate mean, variance, and standard deviation for the window\n",
        "    mean_values.append(window_data['Upper_leg_horizontal_forward'].mean())\n",
        "    variance_values.append(window_data['Upper_leg_horizontal_forward'].var())\n",
        "    std_deviation_values.append(window_data['Upper_leg_horizontal_forward'].std())\n",
        "\n",
        "list1=[mean_values[len(mean_values)-1]]*(len(data)-len(mean_values))\n",
        "list2=[variance_values[len(variance_values)-1]]*(len(data)-len(mean_values))\n",
        "list3=[std_deviation_values[len(std_deviation_values)-1]]*(len(data)-len(mean_values))\n",
        "mean_values.extend(list1)\n",
        "variance_values.extend(list2)\n",
        "std_deviation_values.extend(list3)\n",
        "\"\"\" Add the calculated features to the DataFrame\"\"\"\n",
        "data['Upper_leg_horizontal_forward_Windowed_Mean'] = mean_values\n",
        "data['Upper_leg_horizontal_forward_Windowed_Variance'] = variance_values\n",
        "data['Upper_leg_horizontal_forward_Windowed_Std_Deviation'] = std_deviation_values"
      ],
      "metadata": {
        "id": "zyrrjd-tlB9j"
      },
      "execution_count": null,
      "outputs": []
    },
    {
      "cell_type": "code",
      "source": [
        "data.shape"
      ],
      "metadata": {
        "colab": {
          "base_uri": "https://localhost:8080/"
        },
        "id": "yy7c_2phogxs",
        "outputId": "8fe83d1d-7585-4d0f-d417-74fe0e9759da"
      },
      "execution_count": null,
      "outputs": [
        {
          "output_type": "execute_result",
          "data": {
            "text/plain": [
              "(1917887, 24)"
            ]
          },
          "metadata": {},
          "execution_count": 29
        }
      ]
    },
    {
      "cell_type": "code",
      "source": [
        "window_size = 100  # Choose an appropriate window size\n",
        "\n",
        "# Initialize empty arrays to store calculated features\n",
        "mean_values = []\n",
        "variance_values = []\n",
        "std_deviation_values = []\n",
        "\n",
        "# Iterate through the data using the sliding window\n",
        "for i in range(0, len(data) - window_size + 1, 1):\n",
        "    window_data = data.iloc[i:i+window_size]\n",
        "\n",
        "    # Calculate mean, variance, and standard deviation for the window\n",
        "    mean_values.append(window_data['Upper_leg_vertical'].mean())\n",
        "    variance_values.append(window_data['Upper_leg_vertical'].var())\n",
        "    std_deviation_values.append(window_data['Upper_leg_vertical'].std())\n",
        "\n",
        "list1=[mean_values[len(mean_values)-1]]*(len(data)-len(mean_values))\n",
        "list2=[variance_values[len(variance_values)-1]]*(len(data)-len(mean_values))\n",
        "list3=[std_deviation_values[len(std_deviation_values)-1]]*(len(data)-len(mean_values))\n",
        "mean_values.extend(list1)\n",
        "variance_values.extend(list2)\n",
        "std_deviation_values.extend(list3)\n",
        "\"\"\" Add the calculated features to the DataFrame\"\"\"\n",
        "data['Upper_leg_vertical_Windowed_Mean'] = mean_values\n",
        "data['Upper_leg_vertical_Windowed_Variance'] = variance_values\n",
        "data['Upper_leg_vertical_Windowed_Std_Deviation'] = std_deviation_values"
      ],
      "metadata": {
        "id": "YtT4D3GZomk6"
      },
      "execution_count": null,
      "outputs": []
    },
    {
      "cell_type": "code",
      "source": [
        "data.shape"
      ],
      "metadata": {
        "colab": {
          "base_uri": "https://localhost:8080/"
        },
        "id": "-fq33Pr2riLK",
        "outputId": "1213ee2e-7d64-4c52-eded-89e64ae8456a"
      },
      "execution_count": null,
      "outputs": [
        {
          "output_type": "execute_result",
          "data": {
            "text/plain": [
              "(1917887, 27)"
            ]
          },
          "metadata": {},
          "execution_count": 31
        }
      ]
    },
    {
      "cell_type": "code",
      "source": [
        "window_size = 100  # Choose an appropriate window size\n",
        "\n",
        "# Initialize empty arrays to store calculated features\n",
        "mean_values = []\n",
        "variance_values = []\n",
        "std_deviation_values = []\n",
        "\n",
        "# Iterate through the data using the sliding window\n",
        "for i in range(0, len(data) - window_size + 1, 1):\n",
        "    window_data = data.iloc[i:i+window_size]\n",
        "\n",
        "    # Calculate mean, variance, and standard deviation for the window\n",
        "    mean_values.append(window_data['Upper_leg_horizontal_lateral'].mean())\n",
        "    variance_values.append(window_data['Upper_leg_horizontal_lateral'].var())\n",
        "    std_deviation_values.append(window_data['Upper_leg_horizontal_lateral'].std())\n",
        "\n",
        "list1=[mean_values[len(mean_values)-1]]*(len(data)-len(mean_values))\n",
        "list2=[variance_values[len(variance_values)-1]]*(len(data)-len(mean_values))\n",
        "list3=[std_deviation_values[len(std_deviation_values)-1]]*(len(data)-len(mean_values))\n",
        "mean_values.extend(list1)\n",
        "variance_values.extend(list2)\n",
        "std_deviation_values.extend(list3)\n",
        "\"\"\" Add the calculated features to the DataFrame\"\"\"\n",
        "data['Upper_leg_horizontal_lateral_Windowed_Mean'] = mean_values\n",
        "data['Upper_leg_horizontal_lateral_Windowed_Variance'] = variance_values\n",
        "data['Upper_leg_horizontal_lateral_Windowed_Std_Deviation'] = std_deviation_values"
      ],
      "metadata": {
        "id": "Kp7s7Ajdrl47"
      },
      "execution_count": null,
      "outputs": []
    },
    {
      "cell_type": "code",
      "source": [
        "data.shape"
      ],
      "metadata": {
        "colab": {
          "base_uri": "https://localhost:8080/"
        },
        "id": "BGQtqXxFvgSO",
        "outputId": "ea2431ce-ca93-473e-f7da-ad4185b251ab"
      },
      "execution_count": null,
      "outputs": [
        {
          "output_type": "execute_result",
          "data": {
            "text/plain": [
              "(1917887, 30)"
            ]
          },
          "metadata": {},
          "execution_count": 33
        }
      ]
    },
    {
      "cell_type": "markdown",
      "source": [
        "Next set of features (for Trunk Sensor) :\n",
        "\n",
        "1. Mean\n",
        "2. Standard Deviation\n",
        "3. Variance"
      ],
      "metadata": {
        "id": "AgmQ6jN1vjJ-"
      }
    },
    {
      "cell_type": "code",
      "source": [
        "window_size = 100  # Choose an appropriate window size\n",
        "\n",
        "# Initialize empty arrays to store calculated features\n",
        "mean_values = []\n",
        "variance_values = []\n",
        "std_deviation_values = []\n",
        "\n",
        "# Iterate through the data using the sliding window\n",
        "for i in range(0, len(data) - window_size + 1, 1):\n",
        "    window_data = data.iloc[i:i+window_size]\n",
        "\n",
        "    # Calculate mean, variance, and standard deviation for the window\n",
        "    mean_values.append(window_data['Trunk_horizontal_forward'].mean())\n",
        "    variance_values.append(window_data['Trunk_horizontal_forward'].var())\n",
        "    std_deviation_values.append(window_data['Trunk_horizontal_forward'].std())\n",
        "\n",
        "list1=[mean_values[len(mean_values)-1]]*(len(data)-len(mean_values))\n",
        "list2=[variance_values[len(variance_values)-1]]*(len(data)-len(mean_values))\n",
        "list3=[std_deviation_values[len(std_deviation_values)-1]]*(len(data)-len(mean_values))\n",
        "mean_values.extend(list1)\n",
        "variance_values.extend(list2)\n",
        "std_deviation_values.extend(list3)\n",
        "\"\"\" Add the calculated features to the DataFrame\"\"\"\n",
        "data['Trunk_horizontal_forward_Windowed_Mean'] = mean_values\n",
        "data['Trunk_horizontal_forward_Windowed_Variance'] = variance_values\n",
        "data['Trunk_horizontal_forward_Windowed_Std_Deviation'] = std_deviation_values"
      ],
      "metadata": {
        "id": "feeo6wd-vtBG"
      },
      "execution_count": null,
      "outputs": []
    },
    {
      "cell_type": "code",
      "source": [
        "window_size = 100  # Choose an appropriate window size\n",
        "\n",
        "# Initialize empty arrays to store calculated features\n",
        "mean_values = []\n",
        "variance_values = []\n",
        "std_deviation_values = []\n",
        "\n",
        "# Iterate through the data using the sliding window\n",
        "for i in range(0, len(data) - window_size + 1, 1):\n",
        "    window_data = data.iloc[i:i+window_size]\n",
        "\n",
        "    # Calculate mean, variance, and standard deviation for the window\n",
        "    mean_values.append(window_data['Trunk_vertical'].mean())\n",
        "    variance_values.append(window_data['Trunk_vertical'].var())\n",
        "    std_deviation_values.append(window_data['Trunk_vertical'].std())\n",
        "\n",
        "list1=[mean_values[len(mean_values)-1]]*(len(data)-len(mean_values))\n",
        "list2=[variance_values[len(variance_values)-1]]*(len(data)-len(mean_values))\n",
        "list3=[std_deviation_values[len(std_deviation_values)-1]]*(len(data)-len(mean_values))\n",
        "mean_values.extend(list1)\n",
        "variance_values.extend(list2)\n",
        "std_deviation_values.extend(list3)\n",
        "\"\"\" Add the calculated features to the DataFrame\"\"\"\n",
        "data['Trunk_vertical_Windowed_Mean'] = mean_values\n",
        "data['Trunk_vertical_Windowed_Variance'] = variance_values\n",
        "data['Trunk_vertical_Windowed_Std_Deviation'] = std_deviation_values"
      ],
      "metadata": {
        "id": "AOYapEwryrnd"
      },
      "execution_count": null,
      "outputs": []
    },
    {
      "cell_type": "code",
      "source": [
        "window_size = 100  # Choose an appropriate window size\n",
        "\n",
        "# Initialize empty arrays to store calculated features\n",
        "mean_values = []\n",
        "variance_values = []\n",
        "std_deviation_values = []\n",
        "\n",
        "# Iterate through the data using the sliding window\n",
        "for i in range(0, len(data) - window_size + 1, 1):\n",
        "    window_data = data.iloc[i:i+window_size]\n",
        "\n",
        "    # Calculate mean, variance, and standard deviation for the window\n",
        "    mean_values.append(window_data['Trunk_horizontal_lateral'].mean())\n",
        "    variance_values.append(window_data['Trunk_horizontal_lateral'].var())\n",
        "    std_deviation_values.append(window_data['Trunk_horizontal_lateral'].std())\n",
        "\n",
        "list1=[mean_values[len(mean_values)-1]]*(len(data)-len(mean_values))\n",
        "list2=[variance_values[len(variance_values)-1]]*(len(data)-len(mean_values))\n",
        "list3=[std_deviation_values[len(std_deviation_values)-1]]*(len(data)-len(mean_values))\n",
        "mean_values.extend(list1)\n",
        "variance_values.extend(list2)\n",
        "std_deviation_values.extend(list3)\n",
        "\"\"\" Add the calculated features to the DataFrame\"\"\"\n",
        "data['Trunk_horizontal_lateral_Windowed_Mean'] = mean_values\n",
        "data['Trunk_horizontal_lateral_Windowed_Variance'] = variance_values\n",
        "data['Trunk_horizontal_lateral_Windowed_Std_Deviation'] = std_deviation_values"
      ],
      "metadata": {
        "id": "uZRbO5Tx1wKF"
      },
      "execution_count": null,
      "outputs": []
    },
    {
      "cell_type": "code",
      "source": [
        "data.shape"
      ],
      "metadata": {
        "colab": {
          "base_uri": "https://localhost:8080/"
        },
        "id": "Eg_9Nn6B4rAw",
        "outputId": "3c474037-6b40-43d2-c942-c5ec92f00415"
      },
      "execution_count": null,
      "outputs": [
        {
          "output_type": "execute_result",
          "data": {
            "text/plain": [
              "(1917887, 39)"
            ]
          },
          "metadata": {},
          "execution_count": 37
        }
      ]
    },
    {
      "cell_type": "markdown",
      "source": [
        "# Export DataFrame to CSV\n",
        "csv_filename = 'my_dataframe.csv'\n",
        "\n",
        "data.to_csv(csv_filename, index=False)\n",
        "\n",
        "from google.colab import files\n",
        "\n",
        "# Download the CSV file to local machine\n",
        "files.download(csv_filename)"
      ],
      "metadata": {
        "id": "VJfhnU-m1Oyk"
      }
    },
    {
      "cell_type": "code",
      "source": [
        "# Save DataFrame as CSV on Google Drive\n",
        "drive_path = '/content/drive/MyDrive/'  # Path to your Google Drive root\n",
        "csv_filename = 'parkinson_fog_dataframe_drive.csv'\n",
        "data.to_csv(drive_path + csv_filename, index=False)"
      ],
      "metadata": {
        "id": "b75d_Yav2tqJ"
      },
      "execution_count": null,
      "outputs": []
    },
    {
      "cell_type": "code",
      "source": [
        "dataframe_from_drive = pd.read_csv(\"/content/drive/MyDrive/parkinson_fog_dataframe_drive.csv\")\n",
        "print(dataframe_from_drive.shape)\n",
        "## Read CSV file into DataFrame\n",
        "#df = pd.read_csv(file_path)"
      ],
      "metadata": {
        "colab": {
          "base_uri": "https://localhost:8080/"
        },
        "id": "AxfWEmPd78RV",
        "outputId": "fd206bc6-ef99-46bf-e2ca-8ae32df5c988"
      },
      "execution_count": null,
      "outputs": [
        {
          "output_type": "stream",
          "name": "stdout",
          "text": [
            "(1917887, 39)\n"
          ]
        }
      ]
    },
    {
      "cell_type": "code",
      "source": [
        "dataframe_from_drive['Ankle_horizontal_lateral_Windowed_Variance'].head(5)"
      ],
      "metadata": {
        "colab": {
          "base_uri": "https://localhost:8080/"
        },
        "id": "Az6GS4ug9Pw2",
        "outputId": "b187d73b-b0f7-4a6a-81e5-81cb367cc9cf"
      },
      "execution_count": null,
      "outputs": [
        {
          "output_type": "execute_result",
          "data": {
            "text/plain": [
              "0    126.909091\n",
              "1    127.787879\n",
              "2    127.787879\n",
              "3    126.909091\n",
              "4    126.010101\n",
              "Name: Ankle_horizontal_lateral_Windowed_Variance, dtype: float64"
            ]
          },
          "metadata": {},
          "execution_count": 4
        }
      ]
    },
    {
      "cell_type": "code",
      "source": [
        "acc_magnitude_upper_leg = np.sqrt(dataframe_from_drive['Upper_leg_horizontal_forward']**2 + dataframe_from_drive['Upper_leg_vertical']**2 + dataframe_from_drive['Upper_leg_horizontal_lateral']**2)"
      ],
      "metadata": {
        "id": "f1B3-4HR3Xnq"
      },
      "execution_count": null,
      "outputs": []
    },
    {
      "cell_type": "code",
      "source": [
        "acc_magnitude_upper_leg.shape"
      ],
      "metadata": {
        "colab": {
          "base_uri": "https://localhost:8080/"
        },
        "id": "ozeQzos43mp2",
        "outputId": "3ac60fcb-2bd4-4db6-8b04-fcf920990c2a"
      },
      "execution_count": null,
      "outputs": [
        {
          "output_type": "execute_result",
          "data": {
            "text/plain": [
              "(1917887,)"
            ]
          },
          "metadata": {},
          "execution_count": 6
        }
      ]
    },
    {
      "cell_type": "code",
      "source": [
        "acc_magnitude_upper_leg[1100:1110]"
      ],
      "metadata": {
        "colab": {
          "base_uri": "https://localhost:8080/"
        },
        "id": "xZVm7yhN39Zk",
        "outputId": "8ea45190-14ad-4c0d-fe92-1aecc5dd2087"
      },
      "execution_count": null,
      "outputs": [
        {
          "output_type": "execute_result",
          "data": {
            "text/plain": [
              "1100     980.070916\n",
              "1101    1000.323948\n",
              "1102     989.532213\n",
              "1103     979.864276\n",
              "1104     990.060099\n",
              "1105     979.537646\n",
              "1106    1001.048450\n",
              "1107     980.360138\n",
              "1108     979.864276\n",
              "1109     959.337792\n",
              "dtype: float64"
            ]
          },
          "metadata": {},
          "execution_count": 7
        }
      ]
    },
    {
      "cell_type": "code",
      "source": [
        "dataframe_from_drive[\"Acc_magnitude_upper_leg\"]=acc_magnitude_upper_leg"
      ],
      "metadata": {
        "id": "gdIrlj5m3uQY"
      },
      "execution_count": null,
      "outputs": []
    },
    {
      "cell_type": "code",
      "source": [
        "dataframe_from_drive.shape"
      ],
      "metadata": {
        "colab": {
          "base_uri": "https://localhost:8080/"
        },
        "id": "ptxNP7PW4U8m",
        "outputId": "1de28f22-2516-4099-b0e3-e0c8a2ec0c7f"
      },
      "execution_count": null,
      "outputs": [
        {
          "output_type": "execute_result",
          "data": {
            "text/plain": [
              "(1917887, 40)"
            ]
          },
          "metadata": {},
          "execution_count": 13
        }
      ]
    },
    {
      "cell_type": "code",
      "source": [
        "acc_magnitude_trunk = np.sqrt(dataframe_from_drive['Trunk_horizontal_forward']**2 + dataframe_from_drive['Trunk_vertical']**2 + dataframe_from_drive['Trunk_horizontal_lateral']**2)"
      ],
      "metadata": {
        "id": "auh06dsd4hXY"
      },
      "execution_count": null,
      "outputs": []
    },
    {
      "cell_type": "code",
      "source": [
        "dataframe_from_drive[\"Acc_magnitude_trunk\"]=acc_magnitude_trunk"
      ],
      "metadata": {
        "id": "Xno-Li9995Me"
      },
      "execution_count": null,
      "outputs": []
    },
    {
      "cell_type": "code",
      "source": [
        "dataframe_from_drive.shape"
      ],
      "metadata": {
        "colab": {
          "base_uri": "https://localhost:8080/"
        },
        "id": "RmNc2ofD5TLO",
        "outputId": "3630af34-7efd-492d-fbc0-9fc2552273e8"
      },
      "execution_count": null,
      "outputs": [
        {
          "output_type": "execute_result",
          "data": {
            "text/plain": [
              "(1917887, 41)"
            ]
          },
          "metadata": {},
          "execution_count": 11
        }
      ]
    },
    {
      "cell_type": "code",
      "source": [
        "len(dataframe_from_drive)"
      ],
      "metadata": {
        "colab": {
          "base_uri": "https://localhost:8080/"
        },
        "id": "9OWx7pI5EC60",
        "outputId": "81174561-7da4-4b56-c985-55cff061f1ca"
      },
      "execution_count": null,
      "outputs": [
        {
          "output_type": "execute_result",
          "data": {
            "text/plain": [
              "1917887"
            ]
          },
          "metadata": {},
          "execution_count": 12
        }
      ]
    },
    {
      "cell_type": "code",
      "source": [
        "dataframe_from_drive['Ankle_horizontal_forward'][0]"
      ],
      "metadata": {
        "colab": {
          "base_uri": "https://localhost:8080/"
        },
        "id": "vbZaBSQ5EYYq",
        "outputId": "d678f2eb-d646-4616-d335-7de74528d759"
      },
      "execution_count": null,
      "outputs": [
        {
          "output_type": "execute_result",
          "data": {
            "text/plain": [
              "70"
            ]
          },
          "metadata": {},
          "execution_count": 13
        }
      ]
    },
    {
      "cell_type": "code",
      "source": [
        "dataframe_from_drive.head(1)"
      ],
      "metadata": {
        "colab": {
          "base_uri": "https://localhost:8080/",
          "height": 130
        },
        "id": "kbjZU_N2Egj9",
        "outputId": "2620d274-cb2f-4cc6-c07b-f2bc67cdf302"
      },
      "execution_count": null,
      "outputs": [
        {
          "output_type": "execute_result",
          "data": {
            "text/plain": [
              "   Time  Ankle_horizontal_forward  Ankle_vertical  Ankle_horizontal_lateral  \\\n",
              "0    15                        70              39                      -970   \n",
              "\n",
              "   Upper_leg_horizontal_forward  Upper_leg_vertical  \\\n",
              "0                             0                   0   \n",
              "\n",
              "   Upper_leg_horizontal_lateral  Trunk_horizontal_forward  Trunk_vertical  \\\n",
              "0                             0                         0               0   \n",
              "\n",
              "   Trunk_horizontal_lateral  ...  Trunk_horizontal_forward_Windowed_Variance  \\\n",
              "0                         0  ...                                         0.0   \n",
              "\n",
              "   Trunk_horizontal_forward_Windowed_Std_Deviation  \\\n",
              "0                                              0.0   \n",
              "\n",
              "   Trunk_vertical_Windowed_Mean  Trunk_vertical_Windowed_Variance  \\\n",
              "0                           0.0                               0.0   \n",
              "\n",
              "   Trunk_vertical_Windowed_Std_Deviation  \\\n",
              "0                                    0.0   \n",
              "\n",
              "   Trunk_horizontal_lateral_Windowed_Mean  \\\n",
              "0                                     0.0   \n",
              "\n",
              "   Trunk_horizontal_lateral_Windowed_Variance  \\\n",
              "0                                         0.0   \n",
              "\n",
              "   Trunk_horizontal_lateral_Windowed_Std_Deviation  Acc_magnitude_upper_leg  \\\n",
              "0                                              0.0                      0.0   \n",
              "\n",
              "   Acc_magnitude_trunk  \n",
              "0                  0.0  \n",
              "\n",
              "[1 rows x 41 columns]"
            ],
            "text/html": [
              "\n",
              "  <div id=\"df-2145905c-4acf-40c9-b000-e477761dfd4b\" class=\"colab-df-container\">\n",
              "    <div>\n",
              "<style scoped>\n",
              "    .dataframe tbody tr th:only-of-type {\n",
              "        vertical-align: middle;\n",
              "    }\n",
              "\n",
              "    .dataframe tbody tr th {\n",
              "        vertical-align: top;\n",
              "    }\n",
              "\n",
              "    .dataframe thead th {\n",
              "        text-align: right;\n",
              "    }\n",
              "</style>\n",
              "<table border=\"1\" class=\"dataframe\">\n",
              "  <thead>\n",
              "    <tr style=\"text-align: right;\">\n",
              "      <th></th>\n",
              "      <th>Time</th>\n",
              "      <th>Ankle_horizontal_forward</th>\n",
              "      <th>Ankle_vertical</th>\n",
              "      <th>Ankle_horizontal_lateral</th>\n",
              "      <th>Upper_leg_horizontal_forward</th>\n",
              "      <th>Upper_leg_vertical</th>\n",
              "      <th>Upper_leg_horizontal_lateral</th>\n",
              "      <th>Trunk_horizontal_forward</th>\n",
              "      <th>Trunk_vertical</th>\n",
              "      <th>Trunk_horizontal_lateral</th>\n",
              "      <th>...</th>\n",
              "      <th>Trunk_horizontal_forward_Windowed_Variance</th>\n",
              "      <th>Trunk_horizontal_forward_Windowed_Std_Deviation</th>\n",
              "      <th>Trunk_vertical_Windowed_Mean</th>\n",
              "      <th>Trunk_vertical_Windowed_Variance</th>\n",
              "      <th>Trunk_vertical_Windowed_Std_Deviation</th>\n",
              "      <th>Trunk_horizontal_lateral_Windowed_Mean</th>\n",
              "      <th>Trunk_horizontal_lateral_Windowed_Variance</th>\n",
              "      <th>Trunk_horizontal_lateral_Windowed_Std_Deviation</th>\n",
              "      <th>Acc_magnitude_upper_leg</th>\n",
              "      <th>Acc_magnitude_trunk</th>\n",
              "    </tr>\n",
              "  </thead>\n",
              "  <tbody>\n",
              "    <tr>\n",
              "      <th>0</th>\n",
              "      <td>15</td>\n",
              "      <td>70</td>\n",
              "      <td>39</td>\n",
              "      <td>-970</td>\n",
              "      <td>0</td>\n",
              "      <td>0</td>\n",
              "      <td>0</td>\n",
              "      <td>0</td>\n",
              "      <td>0</td>\n",
              "      <td>0</td>\n",
              "      <td>...</td>\n",
              "      <td>0.0</td>\n",
              "      <td>0.0</td>\n",
              "      <td>0.0</td>\n",
              "      <td>0.0</td>\n",
              "      <td>0.0</td>\n",
              "      <td>0.0</td>\n",
              "      <td>0.0</td>\n",
              "      <td>0.0</td>\n",
              "      <td>0.0</td>\n",
              "      <td>0.0</td>\n",
              "    </tr>\n",
              "  </tbody>\n",
              "</table>\n",
              "<p>1 rows × 41 columns</p>\n",
              "</div>\n",
              "    <div class=\"colab-df-buttons\">\n",
              "\n",
              "  <div class=\"colab-df-container\">\n",
              "    <button class=\"colab-df-convert\" onclick=\"convertToInteractive('df-2145905c-4acf-40c9-b000-e477761dfd4b')\"\n",
              "            title=\"Convert this dataframe to an interactive table.\"\n",
              "            style=\"display:none;\">\n",
              "\n",
              "  <svg xmlns=\"http://www.w3.org/2000/svg\" height=\"24px\" viewBox=\"0 -960 960 960\">\n",
              "    <path d=\"M120-120v-720h720v720H120Zm60-500h600v-160H180v160Zm220 220h160v-160H400v160Zm0 220h160v-160H400v160ZM180-400h160v-160H180v160Zm440 0h160v-160H620v160ZM180-180h160v-160H180v160Zm440 0h160v-160H620v160Z\"/>\n",
              "  </svg>\n",
              "    </button>\n",
              "\n",
              "  <style>\n",
              "    .colab-df-container {\n",
              "      display:flex;\n",
              "      gap: 12px;\n",
              "    }\n",
              "\n",
              "    .colab-df-convert {\n",
              "      background-color: #E8F0FE;\n",
              "      border: none;\n",
              "      border-radius: 50%;\n",
              "      cursor: pointer;\n",
              "      display: none;\n",
              "      fill: #1967D2;\n",
              "      height: 32px;\n",
              "      padding: 0 0 0 0;\n",
              "      width: 32px;\n",
              "    }\n",
              "\n",
              "    .colab-df-convert:hover {\n",
              "      background-color: #E2EBFA;\n",
              "      box-shadow: 0px 1px 2px rgba(60, 64, 67, 0.3), 0px 1px 3px 1px rgba(60, 64, 67, 0.15);\n",
              "      fill: #174EA6;\n",
              "    }\n",
              "\n",
              "    .colab-df-buttons div {\n",
              "      margin-bottom: 4px;\n",
              "    }\n",
              "\n",
              "    [theme=dark] .colab-df-convert {\n",
              "      background-color: #3B4455;\n",
              "      fill: #D2E3FC;\n",
              "    }\n",
              "\n",
              "    [theme=dark] .colab-df-convert:hover {\n",
              "      background-color: #434B5C;\n",
              "      box-shadow: 0px 1px 3px 1px rgba(0, 0, 0, 0.15);\n",
              "      filter: drop-shadow(0px 1px 2px rgba(0, 0, 0, 0.3));\n",
              "      fill: #FFFFFF;\n",
              "    }\n",
              "  </style>\n",
              "\n",
              "    <script>\n",
              "      const buttonEl =\n",
              "        document.querySelector('#df-2145905c-4acf-40c9-b000-e477761dfd4b button.colab-df-convert');\n",
              "      buttonEl.style.display =\n",
              "        google.colab.kernel.accessAllowed ? 'block' : 'none';\n",
              "\n",
              "      async function convertToInteractive(key) {\n",
              "        const element = document.querySelector('#df-2145905c-4acf-40c9-b000-e477761dfd4b');\n",
              "        const dataTable =\n",
              "          await google.colab.kernel.invokeFunction('convertToInteractive',\n",
              "                                                    [key], {});\n",
              "        if (!dataTable) return;\n",
              "\n",
              "        const docLinkHtml = 'Like what you see? Visit the ' +\n",
              "          '<a target=\"_blank\" href=https://colab.research.google.com/notebooks/data_table.ipynb>data table notebook</a>'\n",
              "          + ' to learn more about interactive tables.';\n",
              "        element.innerHTML = '';\n",
              "        dataTable['output_type'] = 'display_data';\n",
              "        await google.colab.output.renderOutput(dataTable, element);\n",
              "        const docLink = document.createElement('div');\n",
              "        docLink.innerHTML = docLinkHtml;\n",
              "        element.appendChild(docLink);\n",
              "      }\n",
              "    </script>\n",
              "  </div>\n",
              "\n",
              "    </div>\n",
              "  </div>\n"
            ]
          },
          "metadata": {},
          "execution_count": 14
        }
      ]
    },
    {
      "cell_type": "code",
      "source": [
        "# Count occurrences where the value in the specified column is zero\n",
        "count_zeros = (dataframe_from_drive['Acc_magnitude'] == 0).sum()\n",
        "print(count_zeros)"
      ],
      "metadata": {
        "colab": {
          "base_uri": "https://localhost:8080/"
        },
        "id": "NlB775Sncyb0",
        "outputId": "2c8edef1-527e-48be-a3e6-03fb7a9ddd34"
      },
      "execution_count": null,
      "outputs": [
        {
          "output_type": "stream",
          "name": "stdout",
          "text": [
            "9\n"
          ]
        }
      ]
    },
    {
      "cell_type": "code",
      "source": [
        "# Filter the DataFrame based on the condition and print 'Annotation' values\n",
        "filtered_annotations = dataframe_from_drive.loc[dataframe_from_drive['Acc_magnitude'] == 0, 'Annotation']\n",
        "\n",
        "print(\"Annotation values where Acc_magnitude is zero:\")\n",
        "print(filtered_annotations)"
      ],
      "metadata": {
        "colab": {
          "base_uri": "https://localhost:8080/"
        },
        "id": "YoXfFmtAevPS",
        "outputId": "e7be186f-94e9-4279-d660-758d31623ca0"
      },
      "execution_count": null,
      "outputs": [
        {
          "output_type": "stream",
          "name": "stdout",
          "text": [
            "Annotation values where Acc_magnitude is zero:\n",
            "549252     0\n",
            "549253     0\n",
            "1415684    0\n",
            "1415685    0\n",
            "1724584    0\n",
            "1724585    0\n",
            "1724586    0\n",
            "1724587    0\n",
            "1724588    0\n",
            "Name: Annotation, dtype: int64\n"
          ]
        }
      ]
    },
    {
      "cell_type": "markdown",
      "source": [
        "WE CAN SAFELY DROP THE ROWS WHERE ANKLE ACCELERATION MAGNITUDE IS ZERO\n",
        "AS IT IS A PART OF DEBREIFING OF THE PATIENT I.E CLASS 0 (WHICH IS NOT STRICTLY A PART OF THE EXPERIMENT)"
      ],
      "metadata": {
        "id": "wmWC5bevg1Pa"
      }
    },
    {
      "cell_type": "code",
      "source": [
        "# Drop rows where 'Acc_magnitude' is zero\n",
        "dataframe_from_drive = dataframe_from_drive[dataframe_from_drive['Acc_magnitude'] != 0]"
      ],
      "metadata": {
        "id": "Ce-MMJo5hRjY"
      },
      "execution_count": null,
      "outputs": []
    },
    {
      "cell_type": "code",
      "source": [
        "# Reset the index to consecutive values\n",
        "dataframe_from_drive = dataframe_from_drive.reset_index(drop=True)"
      ],
      "metadata": {
        "id": "QE_8Twwgj4ta"
      },
      "execution_count": null,
      "outputs": []
    },
    {
      "cell_type": "code",
      "source": [
        "# Count occurrences where the value in the specified column is zero\n",
        "count_zeros = (dataframe_from_drive['Acc_magnitude'] == 0).sum()\n",
        "print(count_zeros)"
      ],
      "metadata": {
        "colab": {
          "base_uri": "https://localhost:8080/"
        },
        "id": "5qkzlvgYhsXd",
        "outputId": "01faa61a-4144-4f94-87ae-64690b086239"
      },
      "execution_count": null,
      "outputs": [
        {
          "output_type": "stream",
          "name": "stdout",
          "text": [
            "0\n"
          ]
        }
      ]
    },
    {
      "cell_type": "code",
      "source": [
        "count_zeros = (dataframe_from_drive['Acc_magnitude_upper_leg'] == 0).sum()\n",
        "print(count_zeros)"
      ],
      "metadata": {
        "colab": {
          "base_uri": "https://localhost:8080/"
        },
        "id": "9HjqruczdJz8",
        "outputId": "9d3b5aee-41fc-4fe3-971b-19f9436c8f8c"
      },
      "execution_count": null,
      "outputs": [
        {
          "output_type": "stream",
          "name": "stdout",
          "text": [
            "66216\n"
          ]
        }
      ]
    },
    {
      "cell_type": "code",
      "source": [
        "count_zeros = (dataframe_from_drive['Acc_magnitude_trunk'] == 0).sum()\n",
        "print(count_zeros)\n"
      ],
      "metadata": {
        "colab": {
          "base_uri": "https://localhost:8080/"
        },
        "id": "gjw6PTuvdet7",
        "outputId": "089f9f18-8928-451a-edd5-8b4c0088c52d"
      },
      "execution_count": null,
      "outputs": [
        {
          "output_type": "stream",
          "name": "stdout",
          "text": [
            "35870\n"
          ]
        }
      ]
    },
    {
      "cell_type": "markdown",
      "source": [
        "Next feature : angle between two consecutive acceleration vectors (to see how acceleration vector is turning)\n",
        "cosine theta = dot product of the acceleration vectors at i and i+1 time/ magnitude of acceleration at i * magnitude of acceleration at i+1"
      ],
      "metadata": {
        "id": "0Rw5itJs5YOP"
      }
    },
    {
      "cell_type": "code",
      "source": [
        "import math\n",
        "list_ankle_theta=[]\n",
        "list_upper_leg_theta=[]\n",
        "list_trunk_theta=[]\n",
        "for i in range(0,len(dataframe_from_drive)-1):\n",
        "#for i in range(0,100):\n",
        "  x=((dataframe_from_drive['Ankle_horizontal_forward'][i]*dataframe_from_drive['Ankle_horizontal_forward'][i+1])+(dataframe_from_drive['Ankle_vertical'][i]*dataframe_from_drive['Ankle_vertical'][i+1])+(dataframe_from_drive['Ankle_horizontal_lateral'][i]*dataframe_from_drive['Ankle_horizontal_lateral'][i+1]))/(dataframe_from_drive['Acc_magnitude'][i]*dataframe_from_drive['Acc_magnitude'][i+1])\n",
        "  #now x represents cosine theta so taking inverse of that to get theta\n",
        "  #print(x)\n",
        "  if(x>1.0):\n",
        "    x=1.0\n",
        "  if(x<-1.0):\n",
        "    x=-1.0\n",
        "  theta= math.acos(x)\n",
        "  #insert this in dataframe -> represents angle between i and i+1 acceleration vector\n",
        "  list_ankle_theta.append(theta)\n",
        "\"\"\"\n",
        "  x1=((dataframe_from_drive['Upper_leg_horizontal_forward'][i]*dataframe_from_drive['Upper_leg_horizontal_forward'][i+1])+(dataframe_from_drive['Upper_leg_vertical'][i]*dataframe_from_drive['Upper_leg_vertical'][i+1])+(dataframe_from_drive['Upper_leg_horizontal_lateral'][i]*dataframe_from_drive['Upper_leg_horizontal_lateral'][i+1]))/(dataframe_from_drive['Acc_magnitude_upper_leg'][i]*dataframe_from_drive['Acc_magnitude_upper_leg'][i+1])\n",
        "  #now x1 represents cosine theta so taking inverse of that to get theta\n",
        "  if(x1>1.0):\n",
        "    x1=1.0\n",
        "  if(x1<-1.0):\n",
        "    x1=-1.0\n",
        "  theta1= math.acos(x1)\n",
        "  #insert this in dataframe -> represents angle between i and i+1 acceleration vector\n",
        "  list_upper_leg_theta.append(theta1)\n",
        "  x2=((dataframe_from_drive['Trunk_horizontal_forward'][i]*dataframe_from_drive['Trunk_horizontal_forward'][i+1])+(dataframe_from_drive['Trunk_vertical'][i]*dataframe_from_drive['Trunk_vertical'][i+1])+(dataframe_from_drive['Trunk_horizontal_lateral'][i]*dataframe_from_drive['Trunk_horizontal_lateral'][i+1]))/(dataframe_from_drive['Acc_magnitude_trunk'][i]*dataframe_from_drive['Acc_magnitude_trunk'][i+1])\n",
        "  #now x2 represents cosine theta so taking inverse of that to get theta\n",
        "  if(x2>1.0):\n",
        "    x2=1.0\n",
        "  if(x2<-1.0):\n",
        "    x2=-1.0\n",
        "  theta2= math.acos(x2)\n",
        "  #insert this in dataframe -> represents angle between i and i+1 acceleration vector\n",
        "  list_trunk_theta.append(theta2)\n",
        "\"\"\"\n",
        "\n"
      ],
      "metadata": {
        "colab": {
          "base_uri": "https://localhost:8080/",
          "height": 125
        },
        "id": "cAl1pvgA5XjF",
        "outputId": "bf5002d5-20cf-499b-d461-b2b1be543927"
      },
      "execution_count": null,
      "outputs": [
        {
          "output_type": "execute_result",
          "data": {
            "text/plain": [
              "\"\\n  x1=((dataframe_from_drive['Upper_leg_horizontal_forward'][i]*dataframe_from_drive['Upper_leg_horizontal_forward'][i+1])+(dataframe_from_drive['Upper_leg_vertical'][i]*dataframe_from_drive['Upper_leg_vertical'][i+1])+(dataframe_from_drive['Upper_leg_horizontal_lateral'][i]*dataframe_from_drive['Upper_leg_horizontal_lateral'][i+1]))/(dataframe_from_drive['Acc_magnitude_upper_leg'][i]*dataframe_from_drive['Acc_magnitude_upper_leg'][i+1])\\n  #now x1 represents cosine theta so taking inverse of that to get theta\\n  if(x1>1.0):\\n    x1=1.0\\n  if(x1<-1.0):\\n    x1=-1.0\\n  theta1= math.acos(x1)\\n  #insert this in dataframe -> represents angle between i and i+1 acceleration vector\\n  list_upper_leg_theta.append(theta1)\\n  x2=((dataframe_from_drive['Trunk_horizontal_forward'][i]*dataframe_from_drive['Trunk_horizontal_forward'][i+1])+(dataframe_from_drive['Trunk_vertical'][i]*dataframe_from_drive['Trunk_vertical'][i+1])+(dataframe_from_drive['Trunk_horizontal_lateral'][i]*dataframe_from_drive['Trunk_horizontal_lateral'][i+1]))/(dataframe_from_drive['Acc_magnitude_trunk'][i]*dataframe_from_drive['Acc_magnitude_trunk'][i+1])\\n  #now x2 represents cosine theta so taking inverse of that to get theta\\n  if(x2>1.0):\\n    x2=1.0\\n  if(x2<-1.0):\\n    x2=-1.0\\n  theta2= math.acos(x2)\\n  #insert this in dataframe -> represents angle between i and i+1 acceleration vector\\n  list_trunk_theta.append(theta2)\\n\""
            ],
            "application/vnd.google.colaboratory.intrinsic+json": {
              "type": "string"
            }
          },
          "metadata": {},
          "execution_count": 42
        }
      ]
    },
    {
      "cell_type": "code",
      "source": [
        "list_ankle_theta[1917870:1917877]"
      ],
      "metadata": {
        "colab": {
          "base_uri": "https://localhost:8080/"
        },
        "id": "kgFJW6yFlYb_",
        "outputId": "c09bedbd-a071-4f36-a8ee-322f7eb5561b"
      },
      "execution_count": null,
      "outputs": [
        {
          "output_type": "execute_result",
          "data": {
            "text/plain": [
              "[0.017967014811170922,\n",
              " 0.0017982450321644293,\n",
              " 0.0017982450321644293,\n",
              " 0.022355173868415786,\n",
              " 0.023441334582836103,\n",
              " 0.015002784036412762,\n",
              " 1.4389998289173727]"
            ]
          },
          "metadata": {},
          "execution_count": 47
        }
      ]
    },
    {
      "cell_type": "code",
      "source": [
        "len(list_ankle_theta)"
      ],
      "metadata": {
        "colab": {
          "base_uri": "https://localhost:8080/"
        },
        "id": "wyEzuTsJWi3O",
        "outputId": "dae32fba-1ee5-4960-a0af-951095bf897d"
      },
      "execution_count": null,
      "outputs": [
        {
          "output_type": "execute_result",
          "data": {
            "text/plain": [
              "1917877"
            ]
          },
          "metadata": {},
          "execution_count": 43
        }
      ]
    },
    {
      "cell_type": "code",
      "source": [
        "len(dataframe_from_drive)"
      ],
      "metadata": {
        "colab": {
          "base_uri": "https://localhost:8080/"
        },
        "id": "dhOsmhw8kgRm",
        "outputId": "b0e2d149-5da4-41a6-9545-1aa669cc4998"
      },
      "execution_count": null,
      "outputs": [
        {
          "output_type": "execute_result",
          "data": {
            "text/plain": [
              "1917878"
            ]
          },
          "metadata": {},
          "execution_count": 44
        }
      ]
    },
    {
      "cell_type": "markdown",
      "source": [
        "Drop the last row and add the series/list_ankle_theta to the dataframe"
      ],
      "metadata": {
        "id": "fUDfbRk9kkgM"
      }
    },
    {
      "cell_type": "code",
      "source": [
        "# Drop the last row\n",
        "dataframe_from_drive = dataframe_from_drive.drop(dataframe_from_drive.index[-1])"
      ],
      "metadata": {
        "id": "xC-bKaVqk0Ux"
      },
      "execution_count": null,
      "outputs": []
    },
    {
      "cell_type": "code",
      "source": [
        "len(dataframe_from_drive)"
      ],
      "metadata": {
        "colab": {
          "base_uri": "https://localhost:8080/"
        },
        "id": "sRKMpCu_lRTr",
        "outputId": "f872868f-3b9e-4d33-c684-a7e150443ec3"
      },
      "execution_count": null,
      "outputs": [
        {
          "output_type": "execute_result",
          "data": {
            "text/plain": [
              "1917877"
            ]
          },
          "metadata": {},
          "execution_count": 46
        }
      ]
    },
    {
      "cell_type": "code",
      "source": [
        "dataframe_from_drive['Ankle_Vector_Angle']=list_ankle_theta"
      ],
      "metadata": {
        "id": "ILxBaGctlT6N"
      },
      "execution_count": null,
      "outputs": []
    },
    {
      "cell_type": "code",
      "source": [
        "dataframe_from_drive.shape"
      ],
      "metadata": {
        "colab": {
          "base_uri": "https://localhost:8080/"
        },
        "id": "AlDxTttbmK5Z",
        "outputId": "c860042a-6c98-4da5-cc94-6c03f92f5e36"
      },
      "execution_count": null,
      "outputs": [
        {
          "output_type": "execute_result",
          "data": {
            "text/plain": [
              "(1917877, 42)"
            ]
          },
          "metadata": {},
          "execution_count": 49
        }
      ]
    },
    {
      "cell_type": "code",
      "source": [
        "# Save DataFrame as CSV on Google Drive\n",
        "drive_path = '/content/drive/MyDrive/'  # Path to your Google Drive root\n",
        "csv_filename = 'parkinson_fog_dataframe_saturday26august.csv'\n",
        "dataframe_from_drive.to_csv(drive_path + csv_filename, index=False)"
      ],
      "metadata": {
        "id": "uSJgagOPn3G4"
      },
      "execution_count": null,
      "outputs": []
    },
    {
      "cell_type": "markdown",
      "source": [
        "# Additional features to be explored\n",
        "acc_magnitude = np.sqrt(data['Ankle_horizontal_forward']**2 + data['Ankle_vertical']**2 + data['Ankle_horizontal_lateral']**2)\n",
        "mean_acc_magnitude = acc_magnitude.mean()\n",
        "std_acc_magnitude = acc_magnitude.std()\n",
        "var_acc_magnitude = acc_magnitude.var()\n",
        "\n",
        "# Apply Fast Fourier Transform (FFT) for frequency domain analysis\n",
        "frequencies, fft_values = signal.periodogram(data['Ankle_horizontal_forward'], fs=1000)  # Assuming 1000 Hz sampling rate\n",
        "dominant_frequency = frequencies[np.argmax(fft_values)]\n",
        "spectral_energy = np.sum(fft_values)\n",
        "\n",
        "peaks, _ = signal.find_peaks(data['Ankle_horizontal_forward'], distance=50)  # Adjust distance as needed\n",
        "num_peaks = len(peaks)\n",
        "\n",
        "step_lengths = np.diff(peaks)\n",
        "stride_times = step_lengths / 1000.0  # Convert to seconds (assuming 1000 Hz sampling rate)\n",
        "\n",
        "zero_crossings = np.where(np.diff(np.sign(data['Ankle_horizontal_forward'])))[0]\n",
        "zero_crossing_rate = len(zero_crossings) / (len(data) / 1000.0)  # Convert to Hz\n",
        "\n",
        "skewness = ((data['Ankle_horizontal_forward'] - mean_acc_magnitude)**3).mean() / std_acc_magnitude**3\n",
        "kurtosis = ((data['Ankle_horizontal_forward'] - mean_acc_magnitude)**4).mean() / std_acc_magnitude**4\n",
        "\n",
        "# Combine extracted features into a feature matrix X\n",
        "X = np.column_stack([mean_acc_magnitude, std_acc_magnitude, var_acc_magnitude,\n",
        "                     dominant_frequency, spectral_energy, num_peaks,\n",
        "                     np.mean(stride_times), np.std(stride_times),\n",
        "                     zero_crossing_rate, skewness, kurtosis])\n",
        "\n",
        "# Target labels\n",
        "y = data['Annotation']"
      ],
      "metadata": {
        "id": "4qDupfcMmX2U"
      }
    }
  ]
}