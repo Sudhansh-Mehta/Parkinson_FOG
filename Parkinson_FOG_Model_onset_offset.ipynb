{
  "nbformat": 4,
  "nbformat_minor": 0,
  "metadata": {
    "colab": {
      "provenance": [],
      "machine_shape": "hm",
      "gpuType": "V100"
    },
    "kernelspec": {
      "name": "python3",
      "display_name": "Python 3"
    },
    "language_info": {
      "name": "python"
    },
    "accelerator": "GPU"
  },
  "cells": [
    {
      "cell_type": "code",
      "execution_count": 1,
      "metadata": {
        "id": "91ilQzUP-LG2"
      },
      "outputs": [],
      "source": [
        "import numpy as np\n",
        "import pandas as pd\n",
        "from sklearn.model_selection import train_test_split\n",
        "from sklearn.preprocessing import StandardScaler\n",
        "from keras.models import Sequential\n",
        "from keras.layers import LSTM, Dense, Dropout\n",
        "from keras.optimizers import Adam\n",
        "from keras.utils import to_categorical\n",
        "from scipy import signal\n",
        "from keras.callbacks import EarlyStopping\n",
        "import matplotlib.pyplot as plt"
      ]
    },
    {
      "cell_type": "code",
      "source": [
        "from google.colab import drive\n",
        "drive.mount('/content/drive')"
      ],
      "metadata": {
        "colab": {
          "base_uri": "https://localhost:8080/"
        },
        "id": "_-oMLHSJ-V1k",
        "outputId": "79c429ea-ee96-41b1-ca7d-5e129433df87"
      },
      "execution_count": 2,
      "outputs": [
        {
          "output_type": "stream",
          "name": "stdout",
          "text": [
            "Mounted at /content/drive\n"
          ]
        }
      ]
    },
    {
      "cell_type": "code",
      "source": [
        "dataframe_from_drive = pd.read_csv(\"/content/drive/MyDrive/parkinson_fog_dataframe_saturday26august.csv\")\n",
        "print(dataframe_from_drive.shape)"
      ],
      "metadata": {
        "colab": {
          "base_uri": "https://localhost:8080/"
        },
        "id": "iJKvX46r-Q0u",
        "outputId": "c147c901-7047-4329-cad3-be2cc012b9f6"
      },
      "execution_count": 4,
      "outputs": [
        {
          "output_type": "stream",
          "name": "stdout",
          "text": [
            "(1917877, 42)\n"
          ]
        }
      ]
    },
    {
      "cell_type": "code",
      "source": [],
      "metadata": {
        "id": "Wjypk4_qP3A2"
      },
      "execution_count": null,
      "outputs": []
    },
    {
      "cell_type": "markdown",
      "source": [
        "    Drop\n",
        "    \"Time\", \"Ankle_horizontal_forward\", \"Ankle_vertical\", \"Ankle_horizontal_lateral\",\n",
        "    \"Upper_leg_horizontal_forward\", \"Upper_leg_vertical\", \"Upper_leg_horizontal_lateral\",\n",
        "    \"Trunk_horizontal_forward\", \"Trunk_vertical\", \"Trunk_horizontal_lateral\""
      ],
      "metadata": {
        "id": "OYoV-AUDFQEL"
      }
    },
    {
      "cell_type": "code",
      "source": [
        "# Drop specific columns\n",
        "columns_to_drop = [\"Time\", \"Ankle_horizontal_forward\", \"Ankle_vertical\", \"Ankle_horizontal_lateral\",\n",
        "\"Upper_leg_horizontal_forward\", \"Upper_leg_vertical\", \"Upper_leg_horizontal_lateral\",\n",
        "\"Trunk_horizontal_forward\", \"Trunk_vertical\", \"Trunk_horizontal_lateral\"]\n",
        "dataframe_from_drive = dataframe_from_drive.drop(columns=columns_to_drop, axis=1)\n",
        "print(dataframe_from_drive.shape)"
      ],
      "metadata": {
        "colab": {
          "base_uri": "https://localhost:8080/"
        },
        "id": "lFqBVGqEExdw",
        "outputId": "48bb0b6f-0e07-4e87-b48b-a1dc7028381d"
      },
      "execution_count": 4,
      "outputs": [
        {
          "output_type": "stream",
          "name": "stdout",
          "text": [
            "(1917877, 32)\n"
          ]
        }
      ]
    },
    {
      "cell_type": "code",
      "source": [
        "len(dataframe_from_drive['Annotation'])"
      ],
      "metadata": {
        "colab": {
          "base_uri": "https://localhost:8080/"
        },
        "id": "Ibc8LbeQ6Kwp",
        "outputId": "baba8d57-ffae-4cb2-c9fb-2c786d162404"
      },
      "execution_count": 5,
      "outputs": [
        {
          "output_type": "execute_result",
          "data": {
            "text/plain": [
              "1917877"
            ]
          },
          "metadata": {},
          "execution_count": 5
        }
      ]
    },
    {
      "cell_type": "code",
      "source": [
        "dataframe_from_drive['Annotation'][1917876]"
      ],
      "metadata": {
        "colab": {
          "base_uri": "https://localhost:8080/"
        },
        "id": "IogisEvo6U-3",
        "outputId": "df50e517-f8cd-4dff-fc2e-4fa9b782ed9e"
      },
      "execution_count": 8,
      "outputs": [
        {
          "output_type": "execute_result",
          "data": {
            "text/plain": [
              "0"
            ]
          },
          "metadata": {},
          "execution_count": 8
        }
      ]
    },
    {
      "cell_type": "code",
      "source": [
        "dataframe_from_drive['Annotation'][0]"
      ],
      "metadata": {
        "colab": {
          "base_uri": "https://localhost:8080/"
        },
        "id": "3jtMoEzX6frW",
        "outputId": "dbaf828e-978f-4a6c-8e0e-ce59735aaba1"
      },
      "execution_count": 9,
      "outputs": [
        {
          "output_type": "execute_result",
          "data": {
            "text/plain": [
              "0"
            ]
          },
          "metadata": {},
          "execution_count": 9
        }
      ]
    },
    {
      "cell_type": "code",
      "source": [
        "print(list(range(0,5)))"
      ],
      "metadata": {
        "colab": {
          "base_uri": "https://localhost:8080/"
        },
        "id": "Xa96-GD06pQk",
        "outputId": "ce0a83fc-118c-4aea-b668-738fe118ea51"
      },
      "execution_count": 11,
      "outputs": [
        {
          "output_type": "stream",
          "name": "stdout",
          "text": [
            "[0, 1, 2, 3, 4]\n"
          ]
        }
      ]
    },
    {
      "cell_type": "code",
      "source": [
        "for i in range(0,len(dataframe_from_drive['Annotation'])-1):\n",
        "  #onset\n",
        "  if((dataframe_from_drive['Annotation'][i]==0 or dataframe_from_drive['Annotation'][i]==1) and dataframe_from_drive['Annotation'][i+1]==2):\n",
        "    dataframe_from_drive['Annotation'][i+1]=3\n",
        "  #offset\n",
        "  if(dataframe_from_drive['Annotation'][i]==2 and (dataframe_from_drive['Annotation'][i+1]==0 or dataframe_from_drive['Annotation'][i+1]==1)):\n",
        "    dataframe_from_drive['Annotation'][i]=3\n",
        ""
      ],
      "metadata": {
        "colab": {
          "base_uri": "https://localhost:8080/"
        },
        "id": "d801OraQ5fwo",
        "outputId": "5af62dd9-0506-4a5d-9987-5c39dd046229"
      },
      "execution_count": 13,
      "outputs": [
        {
          "output_type": "stream",
          "name": "stderr",
          "text": [
            "<ipython-input-13-dc6686cbf9a4>:4: SettingWithCopyWarning: \n",
            "A value is trying to be set on a copy of a slice from a DataFrame\n",
            "\n",
            "See the caveats in the documentation: https://pandas.pydata.org/pandas-docs/stable/user_guide/indexing.html#returning-a-view-versus-a-copy\n",
            "  dataframe_from_drive['Annotation'][i+1]=3\n",
            "<ipython-input-13-dc6686cbf9a4>:7: SettingWithCopyWarning: \n",
            "A value is trying to be set on a copy of a slice from a DataFrame\n",
            "\n",
            "See the caveats in the documentation: https://pandas.pydata.org/pandas-docs/stable/user_guide/indexing.html#returning-a-view-versus-a-copy\n",
            "  dataframe_from_drive['Annotation'][i]=3\n"
          ]
        }
      ]
    },
    {
      "cell_type": "code",
      "source": [
        "# Assuming you have a DataFrame named 'dataframe_from_drive'\n",
        "# and you want to count occurrences where Annotation column is equal to 3\n",
        "count_condition_met = (dataframe_from_drive['Annotation'] == 3).sum()\n",
        "\n",
        "print(f\"The count of rows where Annotation is equal to 3: {count_condition_met}\")"
      ],
      "metadata": {
        "colab": {
          "base_uri": "https://localhost:8080/"
        },
        "id": "YMzhz00i9o8i",
        "outputId": "b7d37fd6-2e26-412b-8f11-370f3620719a"
      },
      "execution_count": 14,
      "outputs": [
        {
          "output_type": "stream",
          "name": "stdout",
          "text": [
            "The count of rows where Annotation is equal to 3: 474\n"
          ]
        }
      ]
    },
    {
      "cell_type": "code",
      "source": [
        "# Drop specific columns ----> Make X\n",
        "columns_to_drop = [\"Annotation\"]\n",
        "X = dataframe_from_drive.drop(columns=columns_to_drop, axis=1)\n",
        "y=dataframe_from_drive[[\"Annotation\"]]\n",
        "print(type(y))\n",
        "print(y.shape)\n",
        "print(X.shape)"
      ],
      "metadata": {
        "colab": {
          "base_uri": "https://localhost:8080/"
        },
        "id": "smCj_SSXGAjH",
        "outputId": "dda93b4f-ef1c-42e7-cf00-a62c7173a38a"
      },
      "execution_count": 15,
      "outputs": [
        {
          "output_type": "stream",
          "name": "stdout",
          "text": [
            "<class 'pandas.core.frame.DataFrame'>\n",
            "(1917877, 1)\n",
            "(1917877, 31)\n"
          ]
        }
      ]
    },
    {
      "cell_type": "code",
      "source": [
        "# Feature scaling\n",
        "scaler = StandardScaler()\n",
        "X_scaled = scaler.fit_transform(X)\n",
        "\n",
        "# Convert annotations to one-hot encoding\n",
        "y_encoded = to_categorical(y)\n",
        "\n",
        "# Split the data into training and testing sets\n",
        "X_train, X_test, y_train, y_test = train_test_split(X_scaled, y_encoded, test_size=0.3, stratify=y, random_state=42)\n",
        "\n",
        "# Reshape input data for LSTM (samples, time steps, features)\n",
        "n_timesteps=1\n",
        "n_features = X_train.shape[1]  # Number of features in your data\n",
        "X_train_reshaped = X_train.reshape(X_train.shape[0], n_timesteps, n_features)\n",
        "X_test_reshaped = X_test.reshape(X_test.shape[0], n_timesteps, n_features)\n",
        "\n",
        "# Initialize the LSTM model\n",
        "# Define the architecture\n",
        "model = Sequential()\n",
        "\n",
        "# Input layer\n",
        "model.add(LSTM(128, input_shape=(n_timesteps, n_features), activation='relu', return_sequences=True))\n",
        "model.add(Dropout(0.2))  # Adding dropout for regularization\n",
        "\n",
        "# Hidden layer\n",
        "model.add(LSTM(64, activation='relu'))\n",
        "model.add(Dropout(0.2))  # Adding dropout for regularization\n",
        "\n",
        "# Output layer\n",
        "model.add(Dense(4, activation='softmax'))  # Assuming 3 classes (0, 1, 2,3)\n",
        "\n",
        "# Compile the model\n",
        "model.compile(loss='categorical_crossentropy', optimizer=Adam(learning_rate=0.001), metrics=['accuracy'])\n",
        "\n",
        "\n",
        "# Define the early stopping callback\n",
        "early_stopping = EarlyStopping(monitor='val_loss', patience=5, restore_best_weights=True)\n",
        "\n",
        "# Train the model\n",
        "history=model.fit(X_train_reshaped, y_train, epochs=10, batch_size=32, validation_split=0.3,callbacks=[early_stopping])\n",
        "\n",
        "\n",
        "# Assuming you've already trained the model and have the 'history' object\n",
        "\n",
        "# Plot training & validation loss values\n",
        "plt.plot(history.history['loss'])\n",
        "plt.plot(history.history['val_loss'])\n",
        "plt.title('Model Loss')\n",
        "plt.xlabel('Epoch')\n",
        "plt.ylabel('Loss')\n",
        "plt.legend(['Train', 'Validation'], loc='upper right')\n",
        "plt.show()\n",
        "\n",
        "# Plot training & validation accuracy values\n",
        "plt.plot(history.history['accuracy'])\n",
        "plt.plot(history.history['val_accuracy'])\n",
        "plt.title('Model Accuracy')\n",
        "plt.xlabel('Epoch')\n",
        "plt.ylabel('Accuracy')\n",
        "plt.legend(['Train', 'Validation'], loc='lower right')\n",
        "plt.show()\n",
        "\n"
      ],
      "metadata": {
        "colab": {
          "base_uri": "https://localhost:8080/",
          "height": 1000
        },
        "id": "ulv5E89jE3fY",
        "outputId": "04da7804-177f-4093-f483-53daac049a9b"
      },
      "execution_count": 18,
      "outputs": [
        {
          "output_type": "stream",
          "name": "stderr",
          "text": [
            "WARNING:tensorflow:Layer lstm_4 will not use cuDNN kernels since it doesn't meet the criteria. It will use a generic GPU kernel as fallback when running on GPU.\n",
            "WARNING:tensorflow:Layer lstm_5 will not use cuDNN kernels since it doesn't meet the criteria. It will use a generic GPU kernel as fallback when running on GPU.\n"
          ]
        },
        {
          "output_type": "stream",
          "name": "stdout",
          "text": [
            "Epoch 1/10\n",
            "29368/29368 [==============================] - 242s 8ms/step - loss: 0.3566 - accuracy: 0.8445 - val_loss: 0.2701 - val_accuracy: 0.8822\n",
            "Epoch 2/10\n",
            "29368/29368 [==============================] - 235s 8ms/step - loss: 0.2712 - accuracy: 0.8849 - val_loss: 0.2170 - val_accuracy: 0.9091\n",
            "Epoch 3/10\n",
            "29368/29368 [==============================] - 236s 8ms/step - loss: 0.2386 - accuracy: 0.8996 - val_loss: 0.1878 - val_accuracy: 0.9196\n",
            "Epoch 4/10\n",
            "29368/29368 [==============================] - 239s 8ms/step - loss: 0.2182 - accuracy: 0.9086 - val_loss: 0.1710 - val_accuracy: 0.9283\n",
            "Epoch 5/10\n",
            "29368/29368 [==============================] - 240s 8ms/step - loss: 0.2044 - accuracy: 0.9147 - val_loss: 0.1578 - val_accuracy: 0.9343\n",
            "Epoch 6/10\n",
            "29368/29368 [==============================] - 238s 8ms/step - loss: 0.1940 - accuracy: 0.9192 - val_loss: 0.1510 - val_accuracy: 0.9360\n",
            "Epoch 7/10\n",
            "29368/29368 [==============================] - 232s 8ms/step - loss: 0.1864 - accuracy: 0.9224 - val_loss: 0.1403 - val_accuracy: 0.9428\n",
            "Epoch 8/10\n",
            "29368/29368 [==============================] - 231s 8ms/step - loss: 0.1793 - accuracy: 0.9251 - val_loss: 0.1365 - val_accuracy: 0.9420\n",
            "Epoch 9/10\n",
            "29368/29368 [==============================] - 227s 8ms/step - loss: 0.1746 - accuracy: 0.9277 - val_loss: 0.1296 - val_accuracy: 0.9470\n",
            "Epoch 10/10\n",
            "29368/29368 [==============================] - 228s 8ms/step - loss: 0.1702 - accuracy: 0.9297 - val_loss: 0.1262 - val_accuracy: 0.9472\n"
          ]
        },
        {
          "output_type": "display_data",
          "data": {
            "text/plain": [
              "<Figure size 640x480 with 1 Axes>"
            ],
            "image/png": "[encoded data removed]"
          },
          "metadata": {}
        },
        {
          "output_type": "display_data",
          "data": {
            "text/plain": [
              "<Figure size 640x480 with 1 Axes>"
            ],
            "image/png": "[encoded data removed]"
          },
          "metadata": {}
        }
      ]
    },
    {
      "cell_type": "code",
      "source": [
        "# Evaluate the model on the test data\n",
        "loss, accuracy = model.evaluate(X_test_reshaped, y_test)\n",
        "print(\"Accuracy:\", accuracy)"
      ],
      "metadata": {
        "colab": {
          "base_uri": "https://localhost:8080/"
        },
        "id": "8B8dbWMPg8G3",
        "outputId": "93f56330-c7c6-4abe-fe0d-f522661b70ab"
      },
      "execution_count": null,
      "outputs": [
        {
          "output_type": "stream",
          "name": "stdout",
          "text": [
            "17981/17981 [==============================] - 41s 2ms/step - loss: 0.0947 - accuracy: 0.9598\n",
            "Accuracy: 0.9598045945167542\n"
          ]
        }
      ]
    },
    {
      "cell_type": "code",
      "source": [
        "# Assuming you've trained and compiled the 'model' already\n",
        "\n",
        "# Save the model\n",
        "model.save('lstm_model_onset_offset.h5')"
      ],
      "metadata": {
        "id": "M_0G25TjHxD5"
      },
      "execution_count": 19,
      "outputs": []
    },
    {
      "cell_type": "code",
      "source": [
        "from google.colab import files\n",
        "\n",
        "# Upload the saved model file\n",
        "uploaded = files.upload()"
      ],
      "metadata": {
        "colab": {
          "base_uri": "https://localhost:8080/",
          "height": 74
        },
        "id": "eUfqz3ytH21U",
        "outputId": "4e65b813-2f07-4f47-92b1-0aa060a8ce35"
      },
      "execution_count": 20,
      "outputs": [
        {
          "output_type": "display_data",
          "data": {
            "text/plain": [
              "<IPython.core.display.HTML object>"
            ],
            "text/html": [
              "\n",
              "     <input type=\"file\" id=\"files-4590a2ff-f99e-47d1-958f-45b7f0491424\" name=\"files[]\" multiple disabled\n",
              "        style=\"border:none\" />\n",
              "     <output id=\"result-4590a2ff-f99e-47d1-958f-45b7f0491424\">\n",
              "      Upload widget is only available when the cell has been executed in the\n",
              "      current browser session. Please rerun this cell to enable.\n",
              "      </output>\n",
              "      <script>// Copyright 2017 Google LLC\n",
              "//\n",
              "// Licensed under the Apache License, Version 2.0 (the \"License\");\n",
              "// you may not use this file except in compliance with the License.\n",
              "// You may obtain a copy of the License at\n",
              "//\n",
              "//      http://www.apache.org/licenses/LICENSE-2.0\n",
              "//\n",
              "// Unless required by applicable law or agreed to in writing, software\n",
              "// distributed under the License is distributed on an \"AS IS\" BASIS,\n",
              "// WITHOUT WARRANTIES OR CONDITIONS OF ANY KIND, either express or implied.\n",
              "// See the License for the specific language governing permissions and\n",
              "// limitations under the License.\n",
              "\n",
              "/**\n",
              " * @fileoverview Helpers for google.colab Python module.\n",
              " */\n",
              "(function(scope) {\n",
              "function span(text, styleAttributes = {}) {\n",
              "  const element = document.createElement('span');\n",
              "  element.textContent = text;\n",
              "  for (const key of Object.keys(styleAttributes)) {\n",
              "    element.style[key] = styleAttributes[key];\n",
              "  }\n",
              "  return element;\n",
              "}\n",
              "\n",
              "// Max number of bytes which will be uploaded at a time.\n",
              "const MAX_PAYLOAD_SIZE = 100 * 1024;\n",
              "\n",
              "function _uploadFiles(inputId, outputId) {\n",
              "  const steps = uploadFilesStep(inputId, outputId);\n",
              "  const outputElement = document.getElementById(outputId);\n",
              "  // Cache steps on the outputElement to make it available for the next call\n",
              "  // to uploadFilesContinue from Python.\n",
              "  outputElement.steps = steps;\n",
              "\n",
              "  return _uploadFilesContinue(outputId);\n",
              "}\n",
              "\n",
              "// This is roughly an async generator (not supported in the browser yet),\n",
              "// where there are multiple asynchronous steps and the Python side is going\n",
              "// to poll for completion of each step.\n",
              "// This uses a Promise to block the python side on completion of each step,\n",
              "// then passes the result of the previous step as the input to the next step.\n",
              "function _uploadFilesContinue(outputId) {\n",
              "  const outputElement = document.getElementById(outputId);\n",
              "  const steps = outputElement.steps;\n",
              "\n",
              "  const next = steps.next(outputElement.lastPromiseValue);\n",
              "  return Promise.resolve(next.value.promise).then((value) => {\n",
              "    // Cache the last promise value to make it available to the next\n",
              "    // step of the generator.\n",
              "    outputElement.lastPromiseValue = value;\n",
              "    return next.value.response;\n",
              "  });\n",
              "}\n",
              "\n",
              "/**\n",
              " * Generator function which is called between each async step of the upload\n",
              " * process.\n",
              " * @param {string} inputId Element ID of the input file picker element.\n",
              " * @param {string} outputId Element ID of the output display.\n",
              " * @return {!Iterable<!Object>} Iterable of next steps.\n",
              " */\n",
              "function* uploadFilesStep(inputId, outputId) {\n",
              "  const inputElement = document.getElementById(inputId);\n",
              "  inputElement.disabled = false;\n",
              "\n",
              "  const outputElement = document.getElementById(outputId);\n",
              "  outputElement.innerHTML = '';\n",
              "\n",
              "  const pickedPromise = new Promise((resolve) => {\n",
              "    inputElement.addEventListener('change', (e) => {\n",
              "      resolve(e.target.files);\n",
              "    });\n",
              "  });\n",
              "\n",
              "  const cancel = document.createElement('button');\n",
              "  inputElement.parentElement.appendChild(cancel);\n",
              "  cancel.textContent = 'Cancel upload';\n",
              "  const cancelPromise = new Promise((resolve) => {\n",
              "    cancel.onclick = () => {\n",
              "      resolve(null);\n",
              "    };\n",
              "  });\n",
              "\n",
              "  // Wait for the user to pick the files.\n",
              "  const files = yield {\n",
              "    promise: Promise.race([pickedPromise, cancelPromise]),\n",
              "    response: {\n",
              "      action: 'starting',\n",
              "    }\n",
              "  };\n",
              "\n",
              "  cancel.remove();\n",
              "\n",
              "  // Disable the input element since further picks are not allowed.\n",
              "  inputElement.disabled = true;\n",
              "\n",
              "  if (!files) {\n",
              "    return {\n",
              "      response: {\n",
              "        action: 'complete',\n",
              "      }\n",
              "    };\n",
              "  }\n",
              "\n",
              "  for (const file of files) {\n",
              "    const li = document.createElement('li');\n",
              "    li.append(span(file.name, {fontWeight: 'bold'}));\n",
              "    li.append(span(\n",
              "        `(${file.type || 'n/a'}) - ${file.size} bytes, ` +\n",
              "        `last modified: ${\n",
              "            file.lastModifiedDate ? file.lastModifiedDate.toLocaleDateString() :\n",
              "                                    'n/a'} - `));\n",
              "    const percent = span('0% done');\n",
              "    li.appendChild(percent);\n",
              "\n",
              "    outputElement.appendChild(li);\n",
              "\n",
              "    const fileDataPromise = new Promise((resolve) => {\n",
              "      const reader = new FileReader();\n",
              "      reader.onload = (e) => {\n",
              "        resolve(e.target.result);\n",
              "      };\n",
              "      reader.readAsArrayBuffer(file);\n",
              "    });\n",
              "    // Wait for the data to be ready.\n",
              "    let fileData = yield {\n",
              "      promise: fileDataPromise,\n",
              "      response: {\n",
              "        action: 'continue',\n",
              "      }\n",
              "    };\n",
              "\n",
              "    // Use a chunked sending to avoid message size limits. See b/62115660.\n",
              "    let position = 0;\n",
              "    do {\n",
              "      const length = Math.min(fileData.byteLength - position, MAX_PAYLOAD_SIZE);\n",
              "      const chunk = new Uint8Array(fileData, position, length);\n",
              "      position += length;\n",
              "\n",
              "      const base64 = btoa(String.fromCharCode.apply(null, chunk));\n",
              "      yield {\n",
              "        response: {\n",
              "          action: 'append',\n",
              "          file: file.name,\n",
              "          data: base64,\n",
              "        },\n",
              "      };\n",
              "\n",
              "      let percentDone = fileData.byteLength === 0 ?\n",
              "          100 :\n",
              "          Math.round((position / fileData.byteLength) * 100);\n",
              "      percent.textContent = `${percentDone}% done`;\n",
              "\n",
              "    } while (position < fileData.byteLength);\n",
              "  }\n",
              "\n",
              "  // All done.\n",
              "  yield {\n",
              "    response: {\n",
              "      action: 'complete',\n",
              "    }\n",
              "  };\n",
              "}\n",
              "\n",
              "scope.google = scope.google || {};\n",
              "scope.google.colab = scope.google.colab || {};\n",
              "scope.google.colab._files = {\n",
              "  _uploadFiles,\n",
              "  _uploadFilesContinue,\n",
              "};\n",
              "})(self);\n",
              "</script> "
            ]
          },
          "metadata": {}
        },
        {
          "output_type": "stream",
          "name": "stdout",
          "text": [
            "Saving lstm_model_onset_offset.h5 to lstm_model_onset_offset (1).h5\n"
          ]
        }
      ]
    },
    {
      "cell_type": "code",
      "source": [
        "import shutil\n",
        "\n",
        "# Move the uploaded file to Google Drive\n",
        "shutil.move(list(uploaded.keys())[0], '/content/drive/MyDrive/lstm_model_onset_offset.h5')"
      ],
      "metadata": {
        "colab": {
          "base_uri": "https://localhost:8080/",
          "height": 35
        },
        "id": "S5pM5PMWIR94",
        "outputId": "c4c59016-aa40-49c2-bf15-2dbc3c137906"
      },
      "execution_count": 21,
      "outputs": [
        {
          "output_type": "execute_result",
          "data": {
            "text/plain": [
              "'/content/drive/MyDrive/lstm_model_onset_offset.h5'"
            ],
            "application/vnd.google.colaboratory.intrinsic+json": {
              "type": "string"
            }
          },
          "metadata": {},
          "execution_count": 21
        }
      ]
    },
    {
      "cell_type": "code",
      "source": [
        "from keras.models import load_model\n",
        "\n",
        "# Load the model\n",
        "loaded_model = load_model('/content/drive/MyDrive/lstm_model_onset_offset.h5')\n",
        "\n",
        "# Now you can use 'loaded_model' for making predictions"
      ],
      "metadata": {
        "colab": {
          "base_uri": "https://localhost:8080/"
        },
        "id": "BPYJwQt_OHcH",
        "outputId": "15fa5b1a-ff55-4f80-bdbc-bb6f72648724"
      },
      "execution_count": 3,
      "outputs": [
        {
          "output_type": "stream",
          "name": "stderr",
          "text": [
            "WARNING:tensorflow:Layer lstm_4 will not use cuDNN kernels since it doesn't meet the criteria. It will use a generic GPU kernel as fallback when running on GPU.\n",
            "WARNING:tensorflow:Layer lstm_5 will not use cuDNN kernels since it doesn't meet the criteria. It will use a generic GPU kernel as fallback when running on GPU.\n"
          ]
        }
      ]
    }
  ]
}